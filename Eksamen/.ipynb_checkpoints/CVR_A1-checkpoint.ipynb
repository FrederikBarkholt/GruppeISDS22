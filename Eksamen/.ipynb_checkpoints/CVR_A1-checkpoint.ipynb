{
 "cells": [
  {
   "cell_type": "code",
   "execution_count": 1,
   "id": "fd1def98-0dee-4feb-8a21-59cc0939c694",
   "metadata": {},
   "outputs": [],
   "source": [
    "# Importing packages\n",
    "\n",
    "import requests\n",
    "from bs4 import BeautifulSoup\n",
    "import pandas as pd\n",
    "import re\n",
    "from selenium import webdriver\n",
    "from webdriver_manager.chrome import ChromeDriverManager\n",
    "from selenium.webdriver.common.keys import Keys"
   ]
  },
  {
   "cell_type": "code",
   "execution_count": 2,
   "id": "547dfe14-af31-4bd5-9727-9abbcac5b66b",
   "metadata": {},
   "outputs": [
    {
     "name": "stdout",
     "output_type": "stream",
     "text": [
      "Requirement already satisfied: selenium in /Users/frederikwintherbakholt/opt/anaconda3/lib/python3.9/site-packages (4.3.0)\n",
      "Requirement already satisfied: urllib3[secure,socks]~=1.26 in /Users/frederikwintherbakholt/opt/anaconda3/lib/python3.9/site-packages (from selenium) (1.26.7)\n",
      "Requirement already satisfied: trio-websocket~=0.9 in /Users/frederikwintherbakholt/opt/anaconda3/lib/python3.9/site-packages (from selenium) (0.9.2)\n",
      "Requirement already satisfied: trio~=0.17 in /Users/frederikwintherbakholt/opt/anaconda3/lib/python3.9/site-packages (from selenium) (0.21.0)\n",
      "Requirement already satisfied: attrs>=19.2.0 in /Users/frederikwintherbakholt/opt/anaconda3/lib/python3.9/site-packages (from trio~=0.17->selenium) (21.2.0)\n",
      "Requirement already satisfied: async-generator>=1.9 in /Users/frederikwintherbakholt/opt/anaconda3/lib/python3.9/site-packages (from trio~=0.17->selenium) (1.10)\n",
      "Requirement already satisfied: idna in /Users/frederikwintherbakholt/opt/anaconda3/lib/python3.9/site-packages (from trio~=0.17->selenium) (3.2)\n",
      "Requirement already satisfied: sortedcontainers in /Users/frederikwintherbakholt/opt/anaconda3/lib/python3.9/site-packages (from trio~=0.17->selenium) (2.4.0)\n",
      "Requirement already satisfied: sniffio in /Users/frederikwintherbakholt/opt/anaconda3/lib/python3.9/site-packages (from trio~=0.17->selenium) (1.2.0)\n",
      "Requirement already satisfied: outcome in /Users/frederikwintherbakholt/opt/anaconda3/lib/python3.9/site-packages (from trio~=0.17->selenium) (1.2.0)\n",
      "Requirement already satisfied: wsproto>=0.14 in /Users/frederikwintherbakholt/opt/anaconda3/lib/python3.9/site-packages (from trio-websocket~=0.9->selenium) (1.1.0)\n",
      "Requirement already satisfied: PySocks!=1.5.7,<2.0,>=1.5.6 in /Users/frederikwintherbakholt/opt/anaconda3/lib/python3.9/site-packages (from urllib3[secure,socks]~=1.26->selenium) (1.7.1)\n",
      "Requirement already satisfied: pyOpenSSL>=0.14 in /Users/frederikwintherbakholt/opt/anaconda3/lib/python3.9/site-packages (from urllib3[secure,socks]~=1.26->selenium) (21.0.0)\n",
      "Requirement already satisfied: cryptography>=1.3.4 in /Users/frederikwintherbakholt/opt/anaconda3/lib/python3.9/site-packages (from urllib3[secure,socks]~=1.26->selenium) (3.4.8)\n",
      "Requirement already satisfied: certifi in /Users/frederikwintherbakholt/opt/anaconda3/lib/python3.9/site-packages (from urllib3[secure,socks]~=1.26->selenium) (2021.10.8)\n",
      "Requirement already satisfied: cffi>=1.12 in /Users/frederikwintherbakholt/opt/anaconda3/lib/python3.9/site-packages (from cryptography>=1.3.4->urllib3[secure,socks]~=1.26->selenium) (1.14.6)\n",
      "Requirement already satisfied: pycparser in /Users/frederikwintherbakholt/opt/anaconda3/lib/python3.9/site-packages (from cffi>=1.12->cryptography>=1.3.4->urllib3[secure,socks]~=1.26->selenium) (2.20)\n",
      "Requirement already satisfied: six>=1.5.2 in /Users/frederikwintherbakholt/opt/anaconda3/lib/python3.9/site-packages (from pyOpenSSL>=0.14->urllib3[secure,socks]~=1.26->selenium) (1.16.0)\n",
      "Requirement already satisfied: h11<1,>=0.9.0 in /Users/frederikwintherbakholt/opt/anaconda3/lib/python3.9/site-packages (from wsproto>=0.14->trio-websocket~=0.9->selenium) (0.13.0)\n",
      "Note: you may need to restart the kernel to use updated packages.\n"
     ]
    }
   ],
   "source": [
    "pip install selenium"
   ]
  },
  {
   "cell_type": "code",
   "execution_count": 3,
   "id": "fb9a5a6d-11fa-4adf-a278-4a38787f41b0",
   "metadata": {},
   "outputs": [
    {
     "name": "stdout",
     "output_type": "stream",
     "text": [
      "Requirement already satisfied: webdriver-manager in /Users/frederikwintherbakholt/opt/anaconda3/lib/python3.9/site-packages (3.8.3)\n",
      "Requirement already satisfied: python-dotenv in /Users/frederikwintherbakholt/opt/anaconda3/lib/python3.9/site-packages (from webdriver-manager) (0.20.0)\n",
      "Requirement already satisfied: requests in /Users/frederikwintherbakholt/opt/anaconda3/lib/python3.9/site-packages (from webdriver-manager) (2.26.0)\n",
      "Requirement already satisfied: tqdm in /Users/frederikwintherbakholt/opt/anaconda3/lib/python3.9/site-packages (from webdriver-manager) (4.62.3)\n",
      "Requirement already satisfied: idna<4,>=2.5 in /Users/frederikwintherbakholt/opt/anaconda3/lib/python3.9/site-packages (from requests->webdriver-manager) (3.2)\n",
      "Requirement already satisfied: charset-normalizer~=2.0.0 in /Users/frederikwintherbakholt/opt/anaconda3/lib/python3.9/site-packages (from requests->webdriver-manager) (2.0.4)\n",
      "Requirement already satisfied: certifi>=2017.4.17 in /Users/frederikwintherbakholt/opt/anaconda3/lib/python3.9/site-packages (from requests->webdriver-manager) (2021.10.8)\n",
      "Requirement already satisfied: urllib3<1.27,>=1.21.1 in /Users/frederikwintherbakholt/opt/anaconda3/lib/python3.9/site-packages (from requests->webdriver-manager) (1.26.7)\n",
      "Note: you may need to restart the kernel to use updated packages.\n"
     ]
    }
   ],
   "source": [
    "pip install webdriver-manager"
   ]
  },
  {
   "cell_type": "code",
   "execution_count": 42,
   "id": "8ec4d6f1-e8a4-4f2b-8290-7d68c2ecba84",
   "metadata": {},
   "outputs": [
    {
     "name": "stderr",
     "output_type": "stream",
     "text": [
      "/var/folders/ss/pvm65dps049d1q9czm5j5qhm0000gn/T/ipykernel_13101/795696537.py:7: DeprecationWarning: executable_path has been deprecated, please pass in a Service object\n",
      "  driver = webdriver.Chrome(ChromeDriverManager().install()) #Open virtual browser\n"
     ]
    }
   ],
   "source": [
    "## Setup, kommer henter url, trykker cookies af, søger og trykker på virksomhed\n",
    "\n",
    "#1\n",
    "\n",
    "# Åbner CVR-hjemmesiden i virtuel-browser\n",
    "url = 'https://datacvr.virk.dk/data/' #Link\n",
    "driver = webdriver.Chrome(ChromeDriverManager().install()) #Open virtual browser\n",
    "driver.implicitly_wait(100) #Setting waiting\n",
    "driver.get(url) #Go to \n",
    "\n",
    "#2\n",
    "\n",
    "# Trykker accepter cookies \n",
    "''' lav om til et if statement, hvor den tjekker for om der er cookies, og klikker dem af hvis der er '''\n",
    "from selenium.webdriver.common.by import By\n",
    "cookie = driver.find_element(By.XPATH, '//*[contains(concat( \" \", @class, \" \" ), concat( \" \", \"cpAcceptBtn\", \" \" ))]') #Here we use a CSS selector\n",
    "cookie.click()\n",
    "\n",
    "#3\n",
    "\n",
    "# Trykker på søgefelt\n",
    "seek = driver.find_element(By.XPATH, '//*[@id=\"main-content\"]/div[2]/div[1]/div/div/form/div/button[1]')\n",
    "seek.click()\n",
    "\n",
    "\n",
    "# Trykker på virksomheder\n",
    "seek = driver.find_element(By.XPATH, '//*[@id=\"main-content\"]/div[2]/div[2]/div/div/div/fieldset/ul/li[2]/label') #Here we use a CSS selector\n",
    "seek.click()\n"
   ]
  },
  {
   "cell_type": "code",
   "execution_count": 60,
   "id": "70201dd4-a24f-49a5-8cfc-1a4a675549ec",
   "metadata": {},
   "outputs": [],
   "source": [
    "# Del 1\n",
    "\n",
    "# Laver soup\n",
    "soup = BeautifulSoup(driver.page_source,'lxml')\n",
    "\n",
    "\n",
    "# Henter cvr på \n",
    "firma = soup.find_all('div', class_ = \"value\")\n",
    "\n",
    "#firma = firma[0]\n",
    "\n",
    "#company = firma.text\n",
    "\n",
    "#company\n"
   ]
  },
  {
   "cell_type": "code",
   "execution_count": 61,
   "id": "e3d18f1b-119e-42d5-a9b1-5870cc3badf1",
   "metadata": {},
   "outputs": [
    {
     "data": {
      "text/plain": [
       "[<div class=\"value\" data-v-295c8b5e=\"\">20284609</div>,\n",
       " <div class=\"value\" data-v-295c8b5e=\"\">Normal</div>,\n",
       " <div class=\"value\" data-v-295c8b5e=\"\">Anpartsselskab</div>,\n",
       " <div class=\"value\" data-v-295c8b5e=\"\">26910536</div>,\n",
       " <div class=\"value\" data-v-295c8b5e=\"\">Normal</div>,\n",
       " <div class=\"value\" data-v-295c8b5e=\"\">Anpartsselskab</div>,\n",
       " <div class=\"value\" data-v-295c8b5e=\"\">28281129</div>,\n",
       " <div class=\"value\" data-v-295c8b5e=\"\">Normal</div>,\n",
       " <div class=\"value\" data-v-295c8b5e=\"\">Anpartsselskab</div>,\n",
       " <div class=\"value\" data-v-295c8b5e=\"\">27353398</div>,\n",
       " <div class=\"value\" data-v-295c8b5e=\"\">Normal</div>,\n",
       " <div class=\"value\" data-v-295c8b5e=\"\">Anpartsselskab</div>,\n",
       " <div class=\"value\" data-v-295c8b5e=\"\">27435424</div>,\n",
       " <div class=\"value\" data-v-295c8b5e=\"\">Normal</div>,\n",
       " <div class=\"value\" data-v-295c8b5e=\"\">Anpartsselskab</div>,\n",
       " <div class=\"value\" data-v-295c8b5e=\"\">27411592</div>,\n",
       " <div class=\"value\" data-v-295c8b5e=\"\">Normal</div>,\n",
       " <div class=\"value\" data-v-295c8b5e=\"\">Anpartsselskab</div>,\n",
       " <div class=\"value\" data-v-295c8b5e=\"\">27768415</div>,\n",
       " <div class=\"value\" data-v-295c8b5e=\"\">Normal</div>,\n",
       " <div class=\"value\" data-v-295c8b5e=\"\">Anpartsselskab</div>,\n",
       " <div class=\"value\" data-v-295c8b5e=\"\">26810310</div>,\n",
       " <div class=\"value\" data-v-295c8b5e=\"\">Normal</div>,\n",
       " <div class=\"value\" data-v-295c8b5e=\"\">Anpartsselskab</div>,\n",
       " <div class=\"value\" data-v-295c8b5e=\"\">26339928</div>,\n",
       " <div class=\"value\" data-v-295c8b5e=\"\">Normal</div>,\n",
       " <div class=\"value\" data-v-295c8b5e=\"\">Anpartsselskab</div>,\n",
       " <div class=\"value\" data-v-295c8b5e=\"\">27506429</div>,\n",
       " <div class=\"value\" data-v-295c8b5e=\"\">Normal</div>,\n",
       " <div class=\"value\" data-v-295c8b5e=\"\">Anpartsselskab</div>]"
      ]
     },
     "execution_count": 61,
     "metadata": {},
     "output_type": "execute_result"
    }
   ],
   "source": [
    "firma ## Har fået lavet en liste med de først 10 cvr-nr, men skal have dem ud hver for sig"
   ]
  },
  {
   "cell_type": "code",
   "execution_count": null,
   "id": "ca0cb81f-d018-41b4-b1ec-650e35fc91a6",
   "metadata": {},
   "outputs": [],
   "source": [
    "## DEL 2 Når vi har lavet liste med cvr/url\n",
    "\n",
    "#1\n",
    "\n",
    "#Loop gennem liste med url\n",
    "# url = f'https://datacvr.virk.dk/enhed/virksomhed/{cvr_nr}\n",
    "\n",
    "#2\n",
    "# Trykker vi på ejerforhold\n",
    "ejerforhold = driver.find_element(By.XPATH, '//*[(@id = \"accordion-ejerforhold-button\")]') #Here we use a CSS selector\n",
    "ejerforhold.click()\n",
    "\n",
    "#3\n",
    "# Setting soup\n",
    "soup = BeautifulSoup(driver.page_source, 'lxml') #The Selenium Driver keeps the HTML in the .page_source property\n",
    "\n",
    "\n",
    "ejerforholdstag = soup.find(\"div\", {\"id\": \"accordion-ejerforhold\"})\n",
    "#class_legale = \"ejerforhold-legale-ejere accordion-content-inner\"\n",
    "class_reelle = \"ejerforhold-reelle-ejere accordion-content-inner\"\n",
    "\n",
    "#Finder navn på reele ejere (Kun det øverste)\n",
    "reelle_tag = ejerforholdstag.find(\"div\", attrs={\"class\": \"ejer mb-3\"})\n",
    "\n",
    "#Trækker navnet ud på den reelle ejer fra suppen\n",
    "ejer_navn = []\n",
    "for i in reelle_tag:\n",
    "    ejer_navn.append(i.text)\n",
    "\n",
    "#Sætter navnet på listen med cvr nummeret\n",
    "paragraphs.append(ejer_navn[0])\n",
    "paragraphs"
   ]
  },
  {
   "cell_type": "code",
   "execution_count": null,
   "id": "fd7077f9-9fbd-4a78-93de-9d708350e838",
   "metadata": {},
   "outputs": [],
   "source": [
    "### Her prøver vi at lave den hvor den klikker ind på hver firma, henter cvr og navn, klikker tilbage scroller, og\n",
    "\n",
    "#1\n",
    "# Trykker på den øverste virksomhed\n",
    "cookie = driver.find_element(By.XPATH, '//*[contains(concat( \" \", @class, \" \" ), concat( \" \", \"value\", \" \" ))]') #Here we use a CSS selector\n",
    "cookie.click()\n",
    "\n",
    "#2\n",
    "# Trykker vi på ejerforhold\n",
    "ejerforhold = driver.find_element(By.XPATH, '//*[(@id = \"accordion-ejerforhold-button\")]') #Here we use a CSS selector\n",
    "ejerforhold.click()\n",
    "\n",
    "#3\n",
    "# Setting soup\n",
    "soup = BeautifulSoup(driver.page_source, 'lxml') #The Selenium Driver keeps the HTML in the .page_source property\n",
    "\n",
    "\n",
    "ejerforholdstag = soup.find(\"div\", {\"id\": \"accordion-ejerforhold\"})\n",
    "#class_legale = \"ejerforhold-legale-ejere accordion-content-inner\"\n",
    "class_reelle = \"ejerforhold-reelle-ejere accordion-content-inner\"\n",
    "\n",
    "#Finder navn på reele ejere (Kun det øverste)\n",
    "reelle_tag = ejerforholdstag.find(\"div\", attrs={\"class\": \"ejer mb-3\"})\n",
    "\n",
    "#Trækker navnet ud på den reelle ejer fra suppen\n",
    "ejer_navn = []\n",
    "for i in reelle_tag:\n",
    "    ejer_navn.append(i.text)\n",
    "\n",
    "#Sætter navnet på listen med cvr nummeret\n",
    "paragraphs.append(ejer_navn[0])\n",
    "paragraphs\n",
    "\n",
    "\n",
    "## Tryk tilbage på side\n",
    "\n",
    "\n",
    "\n",
    "#Scrole\n",
    "def scroll_page(driver):\n",
    "\"\"\"Scrolls down on a given website untill the end\"\"\"\n",
    "    start_time = time.time()\n",
    "    print(\"Scrolling page of course members...\")\n",
    "# Get scroll height\n",
    "    last_height = driver.execute_script(\"return document.body.scrollHeight\")\n",
    "\n",
    "# Loop that continues until the bottom of the page has been reached\n",
    "    while True:\n",
    "\n",
    "# Scroll down to bottom\n",
    "        driver.execute_script(\"window.scrollTo(0, document.body.scrollHeight);\")\n",
    "\n",
    "# Wait to load page\n",
    "        scroll_pause_time = random.uniform(2, 3)\n",
    "        time.sleep(scroll_pause_time)\n",
    "\n",
    "# Calculate new scroll height and compare with last scroll height\n",
    "        new_height = driver.execute_script(\"return document.body.scrollHeight\")\n",
    "        if new_height == last_height:\n",
    "            print(\"Reached end of page, breaking out of while loop...\")\n",
    "            print(f\"Time elapsed: {time.time() - start_time:.2f}\")\n",
    "        break\n",
    "        last_height = new_height"
   ]
  },
  {
   "cell_type": "code",
   "execution_count": null,
   "id": "c115b94d-10ef-4396-8212-27822e11fe12",
   "metadata": {},
   "outputs": [],
   "source": [
    "# Prøver nu med API\n",
    "import urllib.request as request\n",
    "import json \n",
    "import contextlib"
   ]
  },
  {
   "cell_type": "code",
   "execution_count": null,
   "id": "f5ac8fa5-568f-4d72-94cf-6f077b814d30",
   "metadata": {},
   "outputs": [],
   "source": [
    "# PARKERET KODE\n",
    "\n",
    "\n",
    "#soup = BeautifulSoup(driver.page_source, 'lxml') #The Selenium Driver keeps the HTML in the .page_source property\n",
    "#cvr_tag = soup.find(\"div\", {\"class\": \"col-6 col-lg-9\"})\n",
    "#paragraphs = []\n",
    "#for x in cvr_tag:\n",
    "#    paragraphs.append(str(x))\n",
    "#paragraphs"
   ]
  }
 ],
 "metadata": {
  "kernelspec": {
   "display_name": "Python 3 (ipykernel)",
   "language": "python",
   "name": "python3"
  },
  "language_info": {
   "codemirror_mode": {
    "name": "ipython",
    "version": 3
   },
   "file_extension": ".py",
   "mimetype": "text/x-python",
   "name": "python",
   "nbconvert_exporter": "python",
   "pygments_lexer": "ipython3",
   "version": "3.9.7"
  }
 },
 "nbformat": 4,
 "nbformat_minor": 5
}
