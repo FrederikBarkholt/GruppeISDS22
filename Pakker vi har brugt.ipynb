{
 "cells": [
  {
   "cell_type": "markdown",
   "id": "1c630ec2-7c1d-4c91-ae80-4e5e28f49146",
   "metadata": {},
   "source": [
    "## Pakker vi har brugt i løbet af kurset "
   ]
  },
  {
   "cell_type": "code",
   "execution_count": null,
   "id": "c8fc5f0d-aa3a-4475-adc0-e42401022326",
   "metadata": {},
   "outputs": [],
   "source": [
    "# Til DataFrames\n",
    "\n",
    "import numpy as np \n",
    "\n",
    "import pandas as pd\n",
    "\n",
    "# Til Plots\n",
    "\n",
    "import matplotlib.pyplot as plt\n",
    "\n",
    "import seaborn as sns\n",
    "\n",
    "\n",
    "# Til scrapping\n",
    "\n",
    "from bs4 import BeautifulSoup\n",
    "\n",
    "from selenium import webdriver\n",
    "\n",
    "from selenium.webdriver.common.keys import Keys\n",
    "\n",
    "from webdriver_manager.chrome import ChromeDriverManager\n",
    "\n",
    "from pathlib import Path\n",
    "\n",
    "from zipfile import ZipFile\n",
    "\n",
    "import time\n",
    "\n",
    "import requests\n",
    "\n",
    "import re\n",
    "\n",
    "\n",
    "\n",
    "# Diverse\n",
    "\n",
    "import os\n",
    "\n",
    "\n",
    "# Til ML\n",
    "\n",
    "from ch02 import Perceptron, AdalineGD, AdalineSGD, plot_decision_regions\n",
    "from sklearn.linear_model import LogisticRegression\n",
    "from sklearn.metrics import accuracy_score"
   ]
  }
 ],
 "metadata": {
  "kernelspec": {
   "display_name": "Python 3 (ipykernel)",
   "language": "python",
   "name": "python3"
  },
  "language_info": {
   "codemirror_mode": {
    "name": "ipython",
    "version": 3
   },
   "file_extension": ".py",
   "mimetype": "text/x-python",
   "name": "python",
   "nbconvert_exporter": "python",
   "pygments_lexer": "ipython3",
   "version": "3.9.7"
  }
 },
 "nbformat": 4,
 "nbformat_minor": 5
}
