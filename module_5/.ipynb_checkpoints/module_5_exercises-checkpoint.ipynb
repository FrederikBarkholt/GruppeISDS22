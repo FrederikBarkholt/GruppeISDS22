{
 "cells": [
  {
   "cell_type": "markdown",
   "metadata": {},
   "source": [
    "# Videos and Exercises for Session 5: Strings, Requests and APIs"
   ]
  },
  {
   "cell_type": "markdown",
   "metadata": {},
   "source": [
    "In Assignment 0 we covered a lot about basic Python, and in the first sessions, we talked a bit about how to deal with different data types in pandas - strings among other. However, we only scratched the surface on string-related topics and in this session, we will be taking a deeper looking at. \n",
    "\n",
    "We will start out with a recap of some basic string operations and build on that to make a query for fetching data. After having finished this combined teaching module and exercise set, you will know the basics of collecting from the web. This notebook is structured as follows:\n",
    "1. String Operations (recap and warm-up):\n",
    "    - Common string operations\n",
    "    - More string operations\n",
    "    - Warm-up exercises\n",
    "2. Saving as Text File\n",
    "3. Python Containers and Dictionaries\n",
    "4. Python and the Web\n",
    "    - Application Programming Interface (API)\n",
    "    - The Punk API\n",
    "    - The API for Statistics Denmark\n",
    "5. Bonus Exercises $-$ Traffic Data in Copenhagen\n",
    "\n",
    "*Alternative sources*: If you get lost, you might find [this page](https://pythonprogramming.net/string-concatenation-formatting-intermediate-python-tutorial/) on pythonprogramming.net useful. [This page](https://www.python-course.eu/python3_sequential_data_types.php) also gives an introduction to the basics of strings and their related data types. "
   ]
  },
  {
   "cell_type": "markdown",
   "metadata": {},
   "source": [
    "# Part 1: String Operations\n",
    "\n",
    "As we have already learned, strings are sequential containers of characters. In Python we use two kinds of characters:\n",
    "-  American Standard Code (`ascii`)\n",
    "    - Characters from English alphabet, numbers, symbols for writing \n",
    "    - 8 bit information\n",
    "\n",
    "- Unicode (`UTF`)  \n",
    "    - Characters from European and Asian language and much more\n",
    "    - 16 bit information\n",
    "    - Available in URLs recently, e.g. [møn.dk](https://møn.dk)        \n",
    "    \n",
    "    \n",
    "Note that while unicode is a little more heavy and costs more space, it is way more flexible and we get less errors when importing data from non-ascii languages. This reason is also why Python adopted unicode as standard since the release of Python 3.\n",
    "\n",
    "To see that strings are sequential containers, see the example below where we slice them like a list or dataframe/array:"
   ]
  },
  {
   "cell_type": "code",
   "execution_count": 1,
   "metadata": {},
   "outputs": [
    {
     "data": {
      "text/plain": [
       "'lice'"
      ]
     },
     "execution_count": 1,
     "metadata": {},
     "output_type": "execute_result"
    }
   ],
   "source": [
    "str1 = 'police'\n",
    "str1[2:]"
   ]
  },
  {
   "cell_type": "markdown",
   "metadata": {},
   "source": [
    "## Common string operations \n",
    "\n",
    "Strings have multiple operations and functions associated. In this exercise, we investigate a few of these. We also explore the sequence form of a string and how it can be sliced and accessed via indices. In the following, we provide a small tour of some of the most important technical features of strings."
   ]
  },
  {
   "cell_type": "markdown",
   "metadata": {},
   "source": [
    "One thing that can be helpful when working with strings is that you can alter the sentence-case of strings by using the string methods `upper`, `lower`, `capitalize`. Consider the example below and try switching `upper()` with one of the other operations:"
   ]
  },
  {
   "cell_type": "code",
   "execution_count": 2,
   "metadata": {},
   "outputs": [
    {
     "data": {
      "text/plain": [
       "'POLICE'"
      ]
     },
     "execution_count": 2,
     "metadata": {},
     "output_type": "execute_result"
    }
   ],
   "source": [
    "str1.upper()"
   ]
  },
  {
   "cell_type": "markdown",
   "metadata": {},
   "source": [
    "We can also use the `replace` method to substitute parts of the strings:"
   ]
  },
  {
   "cell_type": "code",
   "execution_count": 3,
   "metadata": {},
   "outputs": [
    {
     "data": {
      "text/plain": [
       "'malice'"
      ]
     },
     "execution_count": 3,
     "metadata": {},
     "output_type": "execute_result"
    }
   ],
   "source": [
    "str1.replace('po', 'ma')"
   ]
  },
  {
   "cell_type": "markdown",
   "metadata": {},
   "source": [
    "We can also check whether a substring is within a given string and much more. The general syntax is \n",
    "```python \n",
    "T in S\n",
    "``` \n",
    "which checks whether a string `S` contains the substring `T`. We should always get a boolean True/False outcome in return. See two applications below: "
   ]
  },
  {
   "cell_type": "code",
   "execution_count": 4,
   "metadata": {},
   "outputs": [
    {
     "name": "stdout",
     "output_type": "stream",
     "text": [
      "True False\n"
     ]
    }
   ],
   "source": [
    "print('ice' in str1, 'mice' in str1)"
   ]
  },
  {
   "cell_type": "markdown",
   "metadata": {},
   "source": [
    "Another procedure is to add strings together like below:"
   ]
  },
  {
   "cell_type": "code",
   "execution_count": 5,
   "metadata": {},
   "outputs": [
    {
     "data": {
      "text/plain": [
       "'police officer'"
      ]
     },
     "execution_count": 5,
     "metadata": {},
     "output_type": "execute_result"
    }
   ],
   "source": [
    "str2 = 'officer'\n",
    "str1 + ' ' + str2"
   ]
  },
  {
   "cell_type": "markdown",
   "metadata": {},
   "source": [
    "This can be helpful when we want to combine strings of words into sentences or long text files."
   ]
  },
  {
   "cell_type": "markdown",
   "metadata": {},
   "source": [
    "## More string operations \n",
    "In addition to the techniques above, strings are equipped with an array of _methods_, for solving more complex tasks. For example:\n",
    "- `str.join(list)` will insert a string in between each element of a list\n",
    "- `str.strip()` removes spaces in the beginning and end of a word \n",
    "- the f-string fills in specified blanks in a string\n",
    "- `str1.split(str2)` splits `str1` into a list through all places where `str2` shows up\n",
    "\n",
    "Below we illustrate the use of each function:\n",
    "\n",
    "```python\n",
    ">>> \" \".join(['Hello', 'World!']) \n",
    "'Hello World!'\n",
    "\n",
    ">>> ' Hello World!   '.strip() \n",
    "'Hello World!'\n",
    "\n",
    ">>> w = 'World'\n",
    ">>> f'Hello {w}' \n",
    "'Hello World!'\n",
    "\n",
    ">>> 'a,b,c'.split(',') \n",
    "['a','b','c']\n",
    "```"
   ]
  },
  {
   "cell_type": "markdown",
   "metadata": {},
   "source": [
    "## Warm-up String Exercises\n",
    "\n",
    "In the first couple of exercises, you should use the examples above to solve a set of tasks.\n",
    "\n",
    "> **Ex. 5.1.1**: Let `s1='Chameleon'` and `s2='ham'`. Check whether the string `s2` is a substring of `s1`. Is `'hello'` a substring `'goodbye'`?\n",
    "\n"
   ]
  },
  {
   "cell_type": "code",
   "execution_count": 15,
   "metadata": {
    "deletable": false,
    "nbgrader": {
     "cell_type": "code",
     "checksum": "7e90feaaa9a8b2638f9987ed46dae18f",
     "grade": false,
     "grade_id": "cell-993caea0991d84c4",
     "locked": false,
     "schema_version": 3,
     "solution": true,
     "task": false
    }
   },
   "outputs": [
    {
     "name": "stdout",
     "output_type": "stream",
     "text": [
      "Ham is indeed part of chameleon\n",
      "Hello is not part of goodbye\n"
     ]
    }
   ],
   "source": [
    "s1, s2 = 'Chameleon', 'ham'\n",
    "\n",
    "if s2 in s1:\n",
    "    print(s2.capitalize() + ' is indeed part of ' + s1.lower())\n",
    "else:\n",
    "    print(s2.capitalize() + ' is not part of ' + s1)\n",
    "    \n",
    "s1_2, s2_2 = 'hello', 'goodbye'\n",
    "\n",
    "if s1_2 in s2_2:\n",
    "    print(s1_2.capitalize() + ' is indeed part of ' + s2_2)\n",
    "else:\n",
    "    print(s1_2.capitalize() + ' is not part of ' + s2_2)"
   ]
  },
  {
   "cell_type": "markdown",
   "metadata": {},
   "source": [
    "> **Ex. 5.1.2**: From the string `s1` select the last four characters. What is the index of the character `a` in `s1`?\n",
    "\n",
    "> *Hint*: We can selecti a substring by slicing it with the `[]` notation, from the start to end where start is included and end is excluded. Recall that Python has zero-based indexing, see explanation [here](https://softwareengineering.stackexchange.com/questions/110804/why-are-zero-based-arrays-the-norm).\n"
   ]
  },
  {
   "cell_type": "code",
   "execution_count": 19,
   "metadata": {
    "deletable": false,
    "nbgrader": {
     "cell_type": "code",
     "checksum": "70e7605f0214aacf9c2cc140eafe6362",
     "grade": false,
     "grade_id": "cell-ace323777447ea4a",
     "locked": false,
     "schema_version": 3,
     "solution": true,
     "task": false
    }
   },
   "outputs": [
    {
     "name": "stdout",
     "output_type": "stream",
     "text": [
      "leon\n",
      "2\n"
     ]
    }
   ],
   "source": [
    "print(s1[-4:])\n",
    "print(s1.index('a'))"
   ]
  },
  {
   "cell_type": "markdown",
   "metadata": {},
   "source": [
    "> **Ex. 5.1.3:** Use the `join()` and `strip()` functions to retrieve the sentence `The quick brown fox jumps over the lazy dog` from the list  `list_of_words` in the code cell below. \n",
    "\n",
    "> *Hint:* If you want to challenge yourself, see if you can do this in one line with a list comprehension!"
   ]
  },
  {
   "cell_type": "code",
   "execution_count": 20,
   "metadata": {},
   "outputs": [],
   "source": [
    "list_of_words = ['       The        ', '   quick   ', '     brown      ',\n",
    "                 ' fox          ', '          jumps     ', '   over ',\n",
    "                 '          the   ', '  lazy     ', '          dog     ']"
   ]
  },
  {
   "cell_type": "code",
   "execution_count": 23,
   "metadata": {
    "deletable": false,
    "nbgrader": {
     "cell_type": "code",
     "checksum": "5816e1d6d7ca20a08b2e7710b5ec3f09",
     "grade": false,
     "grade_id": "cell-c07cac510187b734",
     "locked": false,
     "schema_version": 3,
     "solution": true,
     "task": false
    }
   },
   "outputs": [
    {
     "name": "stdout",
     "output_type": "stream",
     "text": [
      "The quick brown fox jumps over the lazy dog\n"
     ]
    }
   ],
   "source": [
    "print(' '.join([list_of_words[x].strip() for x in range(len(list_of_words))]))"
   ]
  },
  {
   "cell_type": "markdown",
   "metadata": {},
   "source": [
    "> **Ex. 5.1.4:** Let `l1 = ['r ', 'Is', '>', ' < ', 'g ', '?']`. Create from `l1` the sentence \"Is r > g?\" using your knowledge about string formatting. Make sure there is only one space in between worlds.\n",
    ">\n",
    "> _Hint:_ You should be able to combine the above information to solve this exercise."
   ]
  },
  {
   "cell_type": "code",
   "execution_count": 26,
   "metadata": {
    "deletable": false,
    "nbgrader": {
     "cell_type": "code",
     "checksum": "880f9a61c0db3d7605addf9b06426330",
     "grade": false,
     "grade_id": "cell-9dafd1e8c334c195",
     "locked": false,
     "schema_version": 3,
     "solution": true,
     "task": false
    }
   },
   "outputs": [
    {
     "name": "stdout",
     "output_type": "stream",
     "text": [
      "Is r > g ?\n"
     ]
    }
   ],
   "source": [
    "l1 = ['r ', 'Is', '>', ' < ', 'g ', '?']\n",
    "print(l1[1]+' '+l1[0]+l1[2]+' '+l1[4]+l1[5])"
   ]
  },
  {
   "cell_type": "markdown",
   "metadata": {
    "slideshow": {
     "slide_type": "slide"
    }
   },
   "source": [
    "# Part 2: Saving as Text File\n",
    "In this course, we have already seen that we can output tabular data as CSV files. These files are essentially text files with specific structure that allows a computer to identify rows and columns. \n",
    "\n",
    "In the example below, we will learn how to actually save a string directly as a text file. Note how we make a line break using `\\n` - this is a string escape sequence, read more [here](https://docs.python.org/3/reference/lexical_analysis.html#literals)."
   ]
  },
  {
   "cell_type": "code",
   "execution_count": 27,
   "metadata": {
    "slideshow": {
     "slide_type": "fragment"
    }
   },
   "outputs": [],
   "source": [
    "my_str = 'This is important...'\n",
    "my_str2 = 'Written in Python!'\n",
    "escape_seq = '\\n'\n",
    "\n",
    "with open('my_file.txt', 'w') as f:\n",
    "    f.write(my_str+escape_seq+my_str2)"
   ]
  },
  {
   "cell_type": "markdown",
   "metadata": {
    "slideshow": {
     "slide_type": "fragment"
    }
   },
   "source": [
    "The code below opens the text file and prints the string."
   ]
  },
  {
   "cell_type": "code",
   "execution_count": 28,
   "metadata": {
    "slideshow": {
     "slide_type": "fragment"
    }
   },
   "outputs": [
    {
     "name": "stdout",
     "output_type": "stream",
     "text": [
      "This is important...\n",
      "Written in Python!\n"
     ]
    }
   ],
   "source": [
    "with open('my_file.txt', 'r') as f:    \n",
    "    print(f.read())"
   ]
  },
  {
   "cell_type": "markdown",
   "metadata": {},
   "source": [
    "> **Ex. 5.2.1:** Create a .txt file called `to_do_list.txt` with a to-do list by looping over the list `to_do = ['1. Hit the gym', '2. Pay bills', '3. Meet George', '4. Buy eggs', '5. Read a book']` and writing each element on a seperate line."
   ]
  },
  {
   "cell_type": "code",
   "execution_count": 29,
   "metadata": {},
   "outputs": [],
   "source": [
    "to_do = ['1. Hit the gym', '2. Pay bills', '3. Meet George', '4. Buy eggs', '5. Read a book']"
   ]
  },
  {
   "cell_type": "code",
   "execution_count": 30,
   "metadata": {
    "deletable": false,
    "nbgrader": {
     "cell_type": "code",
     "checksum": "5182aae859c995048f1044d657065482",
     "grade": false,
     "grade_id": "cell-e5321552aeca36ad",
     "locked": false,
     "schema_version": 3,
     "solution": true,
     "task": false
    }
   },
   "outputs": [],
   "source": [
    "with open('to_do_list.txt', 'w') as f: \n",
    "    for i in range(len(to_do)):\n",
    "        f.write(to_do[i]+'\\n')"
   ]
  },
  {
   "cell_type": "markdown",
   "metadata": {
    "slideshow": {
     "slide_type": "slide"
    }
   },
   "source": [
    "Does the file look like you expected?"
   ]
  },
  {
   "cell_type": "code",
   "execution_count": 31,
   "metadata": {
    "slideshow": {
     "slide_type": "fragment"
    }
   },
   "outputs": [
    {
     "name": "stdout",
     "output_type": "stream",
     "text": [
      "1. Hit the gym\n",
      "2. Pay bills\n",
      "3. Meet George\n",
      "4. Buy eggs\n",
      "5. Read a book\n",
      "\n"
     ]
    }
   ],
   "source": [
    "with open('to_do_list.txt', 'r') as f:    \n",
    "    print(f.read())"
   ]
  },
  {
   "cell_type": "markdown",
   "metadata": {},
   "source": [
    "# Part 3: Python Containers and Dictionaries\n",
    "\n",
    "Dictionaries (or simply `dict`) are a central building block of python. Python dicts are constructed from pairs of keys and values, making them extremely versatile for data storage. Like list, they can contain deep nested structures, e.g. a dict of dicts of lists. You can learn more about this in the following video:"
   ]
  },
  {
   "cell_type": "code",
   "execution_count": 32,
   "metadata": {},
   "outputs": [
    {
     "data": {
      "image/jpeg": "[encoded data removed]",
      "text/html": [
       "\n",
       "        <iframe\n",
       "            width=\"640\"\n",
       "            height=\"360\"\n",
       "            src=\"https://www.youtube.com/embed/XeN7RY1MwFM\"\n",
       "            frameborder=\"0\"\n",
       "            allowfullscreen\n",
       "            \n",
       "        ></iframe>\n",
       "        "
      ],
      "text/plain": [
       "<IPython.lib.display.YouTubeVideo at 0x7ffd1fe8dfa0>"
      ]
     },
     "execution_count": 32,
     "metadata": {},
     "output_type": "execute_result"
    }
   ],
   "source": [
    "from IPython.display import YouTubeVideo\n",
    "YouTubeVideo('XeN7RY1MwFM', width=640, height=360)"
   ]
  },
  {
   "cell_type": "markdown",
   "metadata": {},
   "source": [
    "Try running the code below, where the keys are strings (names from recent Danish prime ministers) and values are also strings (e.g. political affiliation):"
   ]
  },
  {
   "cell_type": "code",
   "execution_count": 33,
   "metadata": {
    "slideshow": {
     "slide_type": "-"
    }
   },
   "outputs": [],
   "source": [
    "my_dict1 = {'Anders': \"Venstre\",\n",
    "            'Helle': \"Socialdemokratiet\",\n",
    "            'Lars': \"Venstre\",\n",
    "            'Mette': \"Socialdemokratiet\"}"
   ]
  },
  {
   "cell_type": "markdown",
   "metadata": {
    "slideshow": {
     "slide_type": "slide"
    }
   },
   "source": [
    "Now,  print the party of some (former) Danish prime minister by replacing `'Name'` below."
   ]
  },
  {
   "cell_type": "code",
   "execution_count": 35,
   "metadata": {},
   "outputs": [
    {
     "name": "stdout",
     "output_type": "stream",
     "text": [
      "Venstre\n"
     ]
    }
   ],
   "source": [
    "print(my_dict1['Anders'])"
   ]
  },
  {
   "cell_type": "markdown",
   "metadata": {},
   "source": [
    "> **Ex. 5.3.1**: Create an empty dictionary `words` using the `dict()`function. Then add each of the words in `['animal', 'coffee', 'python', 'unit', 'knowledge', 'tread', 'arise']` as a key, with the value being a boolean indicator for whether the word begins with a vowel. The results should look like `{'bacon': False, 'asynchronous': True ...}`.\n",
    "\n",
    "> _Hint:_ One approach is to first construct a function that asseses whether a given word begins with a vowel or not."
   ]
  },
  {
   "cell_type": "code",
   "execution_count": 38,
   "metadata": {
    "deletable": false,
    "nbgrader": {
     "cell_type": "code",
     "checksum": "9833bc08d5bd7e7938c8d329c9c577ce",
     "grade": false,
     "grade_id": "cell-81e592c15ce8ee6d",
     "locked": false,
     "schema_version": 3,
     "solution": true,
     "task": false
    }
   },
   "outputs": [
    {
     "data": {
      "text/plain": [
       "{'animal': True,\n",
       " 'coffee': False,\n",
       " 'python': False,\n",
       " 'unit': True,\n",
       " 'knowledge': False,\n",
       " 'tread': False,\n",
       " 'arise': True}"
      ]
     },
     "execution_count": 38,
     "metadata": {},
     "output_type": "execute_result"
    }
   ],
   "source": [
    "words = dict()\n",
    "W = ['animal', 'coffee', 'python', 'unit', 'knowledge', 'tread', 'arise']\n",
    "vowels = ['a', 'e', 'i', 'o', 'u', 'y']\n",
    "\n",
    "for i in range(len(W)):\n",
    "    words[W[i]] = W[i][0] in vowels\n",
    "    \n",
    "words"
   ]
  },
  {
   "cell_type": "markdown",
   "metadata": {},
   "source": [
    "> **Ex. 5.3.2:** Loop through the dictionary `words`. In each iteration, you should print a proper sentence stating whether the current word begins with a vowel or not. \n",
    "\n",
    "> _Hint:_ You can loop through both keys and values simultaneously with the `.items()` method. [This](https://www.tutorialspoint.com/python/python_dictionary.htm) and [this](https://stackoverflow.com/questions/3294889/iterating-over-dictionaries-using-for-loops) might help you."
   ]
  },
  {
   "cell_type": "code",
   "execution_count": 41,
   "metadata": {
    "deletable": false,
    "nbgrader": {
     "cell_type": "code",
     "checksum": "8915800d348370e9f3e558b4f842cea1",
     "grade": false,
     "grade_id": "cell-333a6d7713f78839",
     "locked": false,
     "schema_version": 3,
     "solution": true,
     "task": false
    }
   },
   "outputs": [
    {
     "name": "stdout",
     "output_type": "stream",
     "text": [
      "Animal begins with a vowel\n",
      "Coffee does not begin with a vowel\n",
      "Python does not begin with a vowel\n",
      "Unit begins with a vowel\n",
      "Knowledge does not begin with a vowel\n",
      "Tread does not begin with a vowel\n",
      "Arise begins with a vowel\n"
     ]
    }
   ],
   "source": [
    "for key, value in words.items():\n",
    "    if value == True:\n",
    "        print(key.capitalize() + ' begins with a vowel')\n",
    "    else:\n",
    "        print(key.capitalize() + ' does not begin with a vowel')"
   ]
  },
  {
   "cell_type": "markdown",
   "metadata": {
    "slideshow": {
     "slide_type": "slide"
    }
   },
   "source": [
    "In the video, we also introduced the popular JSON file format which can store lists and dictionaries and hold the three fundamental data types `float`, `int` and `str`. The code example below uses the JSON module to save our dictionary. We use a trick by first converting the JSON file to a string. This can be done with the function `dumps` in the module `json`:"
   ]
  },
  {
   "cell_type": "code",
   "execution_count": 42,
   "metadata": {},
   "outputs": [
    {
     "name": "stdout",
     "output_type": "stream",
     "text": [
      "{\"animal\": true, \"coffee\": false, \"python\": false, \"unit\": true, \"knowledge\": false, \"tread\": false, \"arise\": true}\n"
     ]
    }
   ],
   "source": [
    "import json\n",
    "\n",
    "with open('my_file.JSON', 'w') as f:\n",
    "    my_json_str = json.dumps(words) # convert dictonary to string with JSON formatting\n",
    "    f.write(my_json_str) # write the string to file\n",
    "\n",
    "with open('my_file.JSON', 'r') as f:\n",
    "    print(f.read()) # read the string from file"
   ]
  },
  {
   "cell_type": "markdown",
   "metadata": {},
   "source": [
    "> **Ex. 5.3.3:** Install `https://pypi.org/project/Random-Word/` (documentation [here](https://pypi.org/project/Random-Word/)) by typing `pip install random-word` in your *Anaconda prompt*, and then run the line below. Doing so, you should get a list of 500 randomly drawn words. Now, create a dictionary that contains the length of each of these words (i.e. like `{'livering': 8, 'reiterate': 9,...}`) and save it as a json-file called `r_words.JSON`. Then read it and make sure that you got everything right."
   ]
  },
  {
   "cell_type": "code",
   "execution_count": 46,
   "metadata": {},
   "outputs": [],
   "source": [
    "from random_word import RandomWords\n",
    "r = RandomWords()\n",
    "r_words = r.get_random_words(limit=500)"
   ]
  },
  {
   "cell_type": "code",
   "execution_count": 52,
   "metadata": {
    "deletable": false,
    "nbgrader": {
     "cell_type": "code",
     "checksum": "a798d05c406177a1b63e6aa07331d54b",
     "grade": false,
     "grade_id": "cell-c4a946f4ae699bfc",
     "locked": false,
     "schema_version": 3,
     "solution": true,
     "task": false
    }
   },
   "outputs": [
    {
     "name": "stdout",
     "output_type": "stream",
     "text": [
      "{\"chooks\": 6, \"warm-heartedly\": 14, \"Babylonians\": 11, \"coopt\": 5, \"john milton\": 11, \"twanged\": 7, \"basichromatin\": 13, \"impresa\": 7, \"workboard\": 9, \"carpeted\": 8, \"arthrosis\": 9, \"crimsonness\": 11, \"valediction\": 11, \"halurgy\": 7, \"ambulacrum\": 10, \"tolnaftate\": 10, \"carps\": 5, \"precasting\": 10, \"multiqubit\": 10, \"stools\": 6, \"cottah\": 6, \"desmodium\": 9, \"uncloven\": 8, \"effulgently\": 11, \"deckles\": 7, \"moldwarp\": 8, \"incorporation\": 13, \"gristly\": 7, \"soughingly\": 10, \"colors\": 6, \"haphtarah\": 9, \"uncreditworthy\": 14, \"butylbenzene\": 12, \"deposable\": 9, \"kerril\": 6, \"azapirones\": 10, \"Fire Island\": 11, \"olusatrum\": 9, \"sushimi\": 7, \"miric\": 5, \"Smith Island\": 12, \"practice-ship\": 13, \"embargos\": 8, \"nauclerus\": 9, \"understatedness\": 15, \"wireheads\": 9, \"anyon\": 5, \"retrieve\": 8, \"arachis\": 7, \"endosymbiotic\": 13, \"sphingomyelins\": 14, \"prorations\": 10, \"outbalance\": 10, \"agatha christie\": 15, \"rehashing\": 9, \"pattycakes\": 10, \"untrust\": 7, \"Hellward\": 8, \"filix\": 5, \"carricks\": 8, \"dog-rose\": 8, \"retargeted\": 10, \"non-disclosure\": 14, \"reprivatized\": 12, \"typo'd\": 6, \"theocratic\": 10, \"necrophilism\": 12, \"shingon\": 7, \"E-Prime\": 7, \"counselled\": 10, \"usernames\": 9, \"restoratives\": 12, \"conceits\": 8, \"irrigating\": 10, \"trout-stream\": 12, \"conduit\": 7, \"acheve\": 6, \"Meggan\": 6, \"molly-guard\": 11, \"universals\": 10, \"worried\": 7, \"Sakta\": 5, \"coffins\": 7, \"furbearers\": 10, \"rhyparographer\": 14, \"ubergeeks\": 9, \"raindrop\": 8, \"spannels\": 8, \"routed\": 6, \"clericals\": 9, \"whip-stitching\": 14, \"howsoever\": 9, \"constatation\": 12, \"decrypt\": 7, \"stemcell\": 8, \"hundred\": 7, \"nitrofurans\": 11, \"holystoning\": 11, \"raycasting\": 10, \"subsumptions\": 12, \"scarabaeus\": 10, \"plasticizes\": 11, \"m\\u00eal\\u00e9e\": 5, \"theorems\": 8, \"quinquereme\": 11, \"insistance\": 10, \"quoke\": 5, \"unsectarian\": 11, \"non-living\": 10, \"caterwauling\": 12, \"Tater Tots\": 10, \"shortlisted\": 11, \"Paleogene\": 9, \"uncamp\": 6, \"home-helper\": 11, \"antiroll\": 8, \"misparsed\": 9, \"automobilia\": 11, \"ambrosia\": 8, \"shohet\": 6, \"whereinsoever\": 13, \"parlour\": 7, \"respectable\": 11, \"calcicole\": 9, \"Bombardier\": 10, \"Siobhan\": 7, \"cancerine\": 9, \"polyominoes\": 11, \"Steve\": 5, \"replicants\": 10, \"assclown\": 8, \"Mimir\": 5, \"Orbulina\": 8, \"windfalls\": 9, \"deprotonating\": 13, \"scotoscope\": 10, \"everydayness\": 12, \"unsupportable\": 13, \"writership\": 10, \"bacteremic\": 10, \"hybridizers\": 11, \"gigantine\": 9, \"unwearied\": 9, \"policy-slip\": 11, \"precool\": 7, \"windsocks\": 9, \"satisfy\": 7, \"tbsp.\": 5, \"water-lobelia\": 13, \"wavepackets\": 11, \"helictite\": 9, \"steroidogenic\": 13, \"unlicenced\": 10, \"stoups\": 6, \"jam-packs\": 9, \"nonsexually\": 11, \"refinancings\": 12, \"Framingham\": 10, \"accout\": 6, \"Rubbia\": 6, \"aweoweo\": 7, \"incorporate\": 11, \"conflict\": 8, \"pinche\": 6, \"Perseus\": 7, \"crime\": 5, \"catalytic\": 9, \"trompour\": 8, \"flauto\": 6, \"abstain\": 7, \"tricosane\": 9, \"tumble-down\": 11, \"kneeling\": 8, \"impost\": 6, \"Nimrods\": 7, \"stockist\": 8, \"tuataras\": 8, \"wambles\": 7, \"thief\": 5, \"A.K.A.\": 6, \"beleaguering\": 12, \"vigils\": 6, \"fig-cake\": 8, \"unapprehensive\": 14, \"gawker\": 6, \"sandpiles\": 9, \"trakes\": 6, \"vocalist\": 8, \"ventilated\": 10, \"langle\": 6, \"pantofle\": 8, \"formerly\": 8, \"chemin-de-fer\": 13, \"bluffest\": 8, \"cathedrals\": 10, \"theologaster\": 12, \"theatromania\": 12, \"negationist\": 11, \"accendent\": 9, \"fifty-one\": 9, \"abandonedly\": 11, \"victimize\": 9, \"unwiseness\": 10, \"Illyrians\": 9, \"areca-nut\": 9, \"fanwear\": 7, \"schout\": 6, \"whirligig\": 9, \"pictura\": 7, \"glyphographic\": 13, \"Monty Python\": 12, \"inconvenience\": 13, \"sunbittern\": 10, \"supposably\": 10, \"kevel\": 5, \"platiniferous\": 13, \"cony-catch\": 10, \"artemia\": 7, \"craniotomies\": 12, \"wheel-hoe\": 9, \"aerophytes\": 10, \"twattle\": 7, \"dominee\": 7, \"unskewed\": 8, \"emphasis\": 8, \"unarguably\": 10, \"kening\": 6, \".45-calibre\": 11, \"bigge\": 5, \"rousers\": 7, \"zosters\": 7, \"subanal\": 7, \"commonhold\": 10, \"Volans\": 6, \"helmed\": 6, \"Wells\": 5, \"totters\": 7, \"pandeism\": 8, \"stenton\": 7, \"jog-trotty\": 10, \"unctuosity\": 10, \"flippant\": 8, \"Thetan\": 6, \"backal\": 6, \"two-high\": 8, \"backscattering\": 14, \"aberglaube\": 10, \"irradicable\": 11, \"dish-machine\": 12, \"suspensively\": 12, \"replacing\": 9, \"licentiateship\": 14, \"dustmop\": 7, \"zapas\": 5, \"chumpi\": 6, \"arianrhod\": 9, \"comfortably\": 11, \"stenosed\": 8, \"Mussulmans\": 10, \"workaholism\": 11, \"showrooms\": 9, \"pomologist\": 10, \"bedclothes\": 10, \"inform\": 6, \"hektograph\": 10, \"holographical\": 13, \"isopycnal\": 9, \"L'Aquila\": 8, \"unchristened\": 12, \"nanorobotics\": 12, \"typographist\": 12, \"debauches\": 9, \"airscrew\": 8, \"displat\": 7, \"packsaddle\": 10, \"faceplants\": 10, \"dependence\": 10, \"unusually\": 9, \"necessaries\": 11, \"water-space\": 11, \"lentil\": 6, \"exclusiveness\": 13, \"maigre\": 6, \"unsolidified\": 12, \"estuarine\": 9, \"pulpy\": 5, \"defiles\": 7, \"limodorum\": 9, \"oyster\": 6, \"paganry\": 7, \"kobolds\": 7, \"screeds\": 7, \"transpolar\": 10, \"obstructionism\": 14, \"Arundel\": 7, \"hammers\": 7, \"pentecostals\": 12, \"fatback\": 7, \"photo-intaglio\": 14, \"healed\": 6, \"editors\": 7, \"settler\": 7, \"denary\": 6, \"textbooklike\": 12, \"preternaturally\": 15, \"Hicksville\": 10, \"visceromotor\": 12, \"transhuman\": 10, \"pansexuality\": 12, \"AAMGA\": 5, \"Commager\": 8, \"fundry\": 6, \"neurogenetics\": 13, \"easers\": 6, \"virger\": 6, \"rubberizing\": 11, \"smoothe\": 7, \"islamic\": 7, \"foreordination\": 14, \"banner\": 6, \"implied\": 7, \"animative\": 9, \"victualer\": 9, \"shortfalls\": 10, \"debash\": 6, \"f**king\": 7, \"ruralising\": 10, \"unmovedly\": 9, \"why-not\": 7, \"feature\": 7, \"crocused\": 8, \"scanlator\": 9, \"spinster\": 8, \"AACAP\": 5, \"falsify\": 7, \"liability\": 9, \"pfaff\": 5, \"num\\u00e9raire\": 9, \"utiles\": 6, \"hummer\": 6, \"stochastically\": 14, \"anacoluthon\": 11, \"midmeal\": 7, \"prettiful\": 9, \"rocklet\": 7, \"connected\": 9, \"hair-shirted\": 12, \"colored-glass\": 13, \"tubo-ovarian\": 12, \"ventricous\": 10, \"greenbelt\": 9, \"Yaren\": 5, \"sartorialist\": 12, \"barb-wire\": 9, \"Liechtensteiner\": 15, \"prettify\": 8, \"passaged\": 8, \"piacle\": 6, \"phyllodium\": 10, \"santees\": 7, \"air-bridge\": 10, \"Greenough\": 9, \"callboy\": 7, \"pinnacles\": 9, \"fig-leaved\": 10, \"noncellular\": 11, \"recollapse\": 10, \"inflammation\": 12, \"reflexologist\": 13, \"marivaudage\": 11, \"civvy\": 5, \"mephitically\": 12, \"zaxes\": 5, \"Valvai\": 6, \"spacewalkers\": 12, \"aspersive\": 9, \"pigtail\": 7, \"mesaventure\": 11, \"burr-headed\": 11, \"vortex-atom\": 11, \"classicising\": 12, \"ruckle\": 6, \"seed-cane\": 9, \"suppress\": 8, \"integrally\": 10, \"courgette\": 9, \"lammer\": 6, \"externality\": 11, \"endemically\": 11, \"protectionism\": 13, \"recouper\": 8, \"putto\": 5, \"thrashings\": 10, \"valentine\": 9, \"portage\": 7, \"Ganges\": 6, \"larum\": 5, \"accumulated\": 11, \"colourless\": 10, \"43Great\": 7, \"unpierceable\": 12, \"outmatches\": 10, \"Kasha\": 5, \"tube-well\": 9, \"cleverness\": 10, \"Laestrygonians\": 14, \"skin-dive\": 9, \"variations\": 10, \"malar\": 5, \"poisonous\": 9, \"venerealee\": 10, \"shatter-brained\": 15, \"haems\": 5, \"wrongfully\": 10, \"extrapancreatic\": 15, \"ptere\": 5, \"propine\": 7, \"either\": 6, \"horse-sorrel\": 12, \"unfishlike\": 10, \"pent-\": 5, \"swooping\": 8, \"anomic\": 6, \"fire-plant\": 10, \"lookups\": 7, \"R'n'R\": 5, \"territorially\": 13, \"home-bred\": 9, \"Catherine\": 9, \"promotion\": 9, \"ferlich\": 7, \"poshos\": 6, \"Tarsus\": 6, \"Cathi\": 5, \"octoploids\": 10, \"unhumorous\": 10, \"subthoracic\": 11, \"handbags\": 8, \"coliseums\": 9, \"brahminical\": 11, \"integration\": 11, \"flogs\": 5, \"descanter\": 9, \"systematical\": 12, \"abusive\": 7, \"sandpits\": 8, \"ameliorator\": 11, \"remastered\": 10, \"areca\": 5, \"market-garden\": 13, \"close-season\": 12, \"lapwing\": 7, \"kiddy\": 5, \"Myxobacter\": 10, \"sacalait\": 8, \"uterosacral\": 11, \"exitus\": 6, \"over-brimmed\": 12, \"lactalbumin\": 11, \"punctually\": 10, \"provisions\": 10, \"gearheads\": 9, \"flirtiest\": 9, \"vehemence\": 9, \"duetto\": 6, \"retrojection\": 12, \"realize\": 7, \"betweene\": 8, \"hypnoidal\": 9, \"oralist\": 7, \"Mylar\": 5, \"easterlies\": 10, \"thwartships\": 11, \"riggings\": 8, \"einkorn\": 7, \"tattle\": 6, \"usurp\": 5, \"ophanim\": 7, \"thundercloud\": 12, \"potrero\": 7, \"snarkiest\": 9, \"randomizer\": 10, \"disencourage\": 12, \"three-mile\": 10, \"archived\": 8, \"nonsense\": 8, \"Hebr.\": 5, \"high-ceilinged\": 14, \"semicivilized\": 13, \"provocatory\": 11, \"impound\": 7, \"grenadines\": 10, \"thio-ether\": 10, \"bird's-beak\": 11, \"intraspecific\": 13, \"bobbery\": 7, \"reteaching\": 10, \"holdall\": 7, \"auctioneered\": 12, \"prelease\": 8}\n"
     ]
    }
   ],
   "source": [
    "random_words_length = {}\n",
    "for i in range(len(r_words)):\n",
    "    random_words_length[r_words[i]] = len(r_words[i])\n",
    "    \n",
    "with open('r_words.JSON', 'w') as f:\n",
    "    my_json_str = json.dumps(random_words_length) # convert dictonary to string with JSON formatting\n",
    "    f.write(my_json_str) # write the string to file\n",
    "\n",
    "with open('r_words.JSON', 'r') as f:\n",
    "    print(f.read()) # read the string from file"
   ]
  },
  {
   "cell_type": "markdown",
   "metadata": {},
   "source": [
    "<br>\n",
    "\n",
    "# Part 4: Python and the Web\n",
    "\n",
    "The internet is a massive source for collecting data. Watch the video below to get an overview of the most fundamental protocols and how we work with them."
   ]
  },
  {
   "cell_type": "code",
   "execution_count": 53,
   "metadata": {},
   "outputs": [
    {
     "data": {
      "image/jpeg": "[encoded data removed]",
      "text/html": [
       "\n",
       "        <iframe\n",
       "            width=\"640\"\n",
       "            height=\"360\"\n",
       "            src=\"https://www.youtube.com/embed/D6FFt0z8pFc\"\n",
       "            frameborder=\"0\"\n",
       "            allowfullscreen\n",
       "            \n",
       "        ></iframe>\n",
       "        "
      ],
      "text/plain": [
       "<IPython.lib.display.YouTubeVideo at 0x7ffd2058e730>"
      ]
     },
     "execution_count": 53,
     "metadata": {},
     "output_type": "execute_result"
    }
   ],
   "source": [
    "YouTubeVideo('D6FFt0z8pFc', width=640, height=360)"
   ]
  },
  {
   "cell_type": "markdown",
   "metadata": {
    "slideshow": {
     "slide_type": "slide"
    }
   },
   "source": [
    "## Application Programming Interface (API)\n",
    "\n",
    "APIs are protocols that allow us to request information and/or services from the provider of the API. In this course, we are mainly interested in APIs that provide data as a response to our requests. Watch the video below to get a sense of what APIs exist and how they work."
   ]
  },
  {
   "cell_type": "code",
   "execution_count": 54,
   "metadata": {},
   "outputs": [
    {
     "data": {
      "image/jpeg": "[encoded data removed]",
      "text/html": [
       "\n",
       "        <iframe\n",
       "            width=\"640\"\n",
       "            height=\"360\"\n",
       "            src=\"https://www.youtube.com/embed/PvMIubOCUD8\"\n",
       "            frameborder=\"0\"\n",
       "            allowfullscreen\n",
       "            \n",
       "        ></iframe>\n",
       "        "
      ],
      "text/plain": [
       "<IPython.lib.display.YouTubeVideo at 0x7ffd2058efd0>"
      ]
     },
     "execution_count": 54,
     "metadata": {},
     "output_type": "execute_result"
    }
   ],
   "source": [
    "YouTubeVideo('PvMIubOCUD8', width=640, height=360)"
   ]
  },
  {
   "cell_type": "markdown",
   "metadata": {},
   "source": [
    "## Building the Queries\n",
    "We will now move on to understanding how we can interact with a web API in Python. First we will see how to build a query, which is simply a web address. By typing in a specific web address, the web server will receive information from us.\n",
    "\n",
    "In the example below we build a URL that allows us to check out which repositories ISDSUCPH has publicly available."
   ]
  },
  {
   "cell_type": "code",
   "execution_count": 55,
   "metadata": {
    "slideshow": {
     "slide_type": "fragment"
    }
   },
   "outputs": [
    {
     "name": "stdout",
     "output_type": "stream",
     "text": [
      "https://api.github.com/users/isdsucph/repos\n"
     ]
    }
   ],
   "source": [
    "server_url = 'https://api.github.com'\n",
    "endpoint_path = '/users/isdsucph/repos'\n",
    "\n",
    "url = server_url + endpoint_path\n",
    "\n",
    "print(url)"
   ]
  },
  {
   "cell_type": "markdown",
   "metadata": {
    "slideshow": {
     "slide_type": "slide"
    }
   },
   "source": [
    "## Sending the Query\n",
    "Python has a smart module, named `requests` (get it with `pip install requests`), that allows us to interact with the web. When we request a URL, we get a response in return. Among other things, it allows us to inspect the HTML code. In the example below, we query the URL for the GitHub API we made above. "
   ]
  },
  {
   "cell_type": "code",
   "execution_count": 56,
   "metadata": {
    "slideshow": {
     "slide_type": "fragment"
    }
   },
   "outputs": [],
   "source": [
    "import requests # import the module requests\n",
    "response = requests.get(url) # submit query with `get` and save response as object"
   ]
  },
  {
   "cell_type": "markdown",
   "metadata": {},
   "source": [
    "When we examine the response, we can see the HTML string is pretty long, so we limit the initial output to the first 1,000 characters. "
   ]
  },
  {
   "cell_type": "code",
   "execution_count": 57,
   "metadata": {
    "slideshow": {
     "slide_type": "fragment"
    }
   },
   "outputs": [
    {
     "name": "stdout",
     "output_type": "stream",
     "text": [
      "15331 \n",
      "\n",
      "[{\"id\":381957904,\"node_id\":\"MDEwOlJlcG9zaXRvcnkzODE5NTc5MDQ=\",\"name\":\"isds2021\",\"full_name\":\"isdsucph/isds2021\",\"private\":false,\"owner\":{\"login\":\"isdsucph\",\"id\":86770179,\"node_id\":\"MDQ6VXNlcjg2NzcwMTc5\",\"avatar_url\":\"https://avatars.githubusercontent.com/u/86770179?v=4\",\"gravatar_id\":\"\",\"url\":\"https://api.github.com/users/isdsucph\",\"html_url\":\"https://github.com/isdsucph\",\"followers_url\":\"https://api.github.com/users/isdsucph/followers\",\"following_url\":\"https://api.github.com/users/isdsucph/following{/other_user}\",\"gists_url\":\"https://api.github.com/users/isdsucph/gists{/gist_id}\",\"starred_url\":\"https://api.github.com/users/isdsucph/starred{/owner}{/repo}\",\"subscriptions_url\":\"https://api.github.com/users/isdsucph/subscriptions\",\"organizations_url\":\"https://api.github.com/users/isdsucph/orgs\",\"repos_url\":\"https://api.github.com/users/isdsucph/repos\",\"events_url\":\"https://api.github.com/users/isdsucph/events{/privacy}\",\"received_events_url\":\"https://api.github.com/users/isdsucph/receive\n"
     ]
    }
   ],
   "source": [
    "print(len(response.text),'\\n') # print length of HTML\n",
    "print(response.text[:1000]) # print first 1,000 characters of HTML "
   ]
  },
  {
   "cell_type": "markdown",
   "metadata": {},
   "source": [
    "Looking closely, we notice how the structure resembles lists and dictionaries (note that depending on the context, these responses can be VERY difficult to make sense of from simply printing - just as in this case). Therefore, we try to convert it by assuming that it is structured as JSON."
   ]
  },
  {
   "cell_type": "code",
   "execution_count": 58,
   "metadata": {},
   "outputs": [
    {
     "data": {
      "text/plain": [
       "{'id': 381957904,\n",
       " 'node_id': 'MDEwOlJlcG9zaXRvcnkzODE5NTc5MDQ=',\n",
       " 'name': 'isds2021',\n",
       " 'full_name': 'isdsucph/isds2021',\n",
       " 'private': False,\n",
       " 'owner': {'login': 'isdsucph',\n",
       "  'id': 86770179,\n",
       "  'node_id': 'MDQ6VXNlcjg2NzcwMTc5',\n",
       "  'avatar_url': 'https://avatars.githubusercontent.com/u/86770179?v=4',\n",
       "  'gravatar_id': '',\n",
       "  'url': 'https://api.github.com/users/isdsucph',\n",
       "  'html_url': 'https://github.com/isdsucph',\n",
       "  'followers_url': 'https://api.github.com/users/isdsucph/followers',\n",
       "  'following_url': 'https://api.github.com/users/isdsucph/following{/other_user}',\n",
       "  'gists_url': 'https://api.github.com/users/isdsucph/gists{/gist_id}',\n",
       "  'starred_url': 'https://api.github.com/users/isdsucph/starred{/owner}{/repo}',\n",
       "  'subscriptions_url': 'https://api.github.com/users/isdsucph/subscriptions',\n",
       "  'organizations_url': 'https://api.github.com/users/isdsucph/orgs',\n",
       "  'repos_url': 'https://api.github.com/users/isdsucph/repos',\n",
       "  'events_url': 'https://api.github.com/users/isdsucph/events{/privacy}',\n",
       "  'received_events_url': 'https://api.github.com/users/isdsucph/received_events',\n",
       "  'type': 'User',\n",
       "  'site_admin': False},\n",
       " 'html_url': 'https://github.com/isdsucph/isds2021',\n",
       " 'description': 'Introduction to Social Data Science 2021 - a summer school course https://isdsucph.github.io/isds2021/',\n",
       " 'fork': False,\n",
       " 'url': 'https://api.github.com/repos/isdsucph/isds2021',\n",
       " 'forks_url': 'https://api.github.com/repos/isdsucph/isds2021/forks',\n",
       " 'keys_url': 'https://api.github.com/repos/isdsucph/isds2021/keys{/key_id}',\n",
       " 'collaborators_url': 'https://api.github.com/repos/isdsucph/isds2021/collaborators{/collaborator}',\n",
       " 'teams_url': 'https://api.github.com/repos/isdsucph/isds2021/teams',\n",
       " 'hooks_url': 'https://api.github.com/repos/isdsucph/isds2021/hooks',\n",
       " 'issue_events_url': 'https://api.github.com/repos/isdsucph/isds2021/issues/events{/number}',\n",
       " 'events_url': 'https://api.github.com/repos/isdsucph/isds2021/events',\n",
       " 'assignees_url': 'https://api.github.com/repos/isdsucph/isds2021/assignees{/user}',\n",
       " 'branches_url': 'https://api.github.com/repos/isdsucph/isds2021/branches{/branch}',\n",
       " 'tags_url': 'https://api.github.com/repos/isdsucph/isds2021/tags',\n",
       " 'blobs_url': 'https://api.github.com/repos/isdsucph/isds2021/git/blobs{/sha}',\n",
       " 'git_tags_url': 'https://api.github.com/repos/isdsucph/isds2021/git/tags{/sha}',\n",
       " 'git_refs_url': 'https://api.github.com/repos/isdsucph/isds2021/git/refs{/sha}',\n",
       " 'trees_url': 'https://api.github.com/repos/isdsucph/isds2021/git/trees{/sha}',\n",
       " 'statuses_url': 'https://api.github.com/repos/isdsucph/isds2021/statuses/{sha}',\n",
       " 'languages_url': 'https://api.github.com/repos/isdsucph/isds2021/languages',\n",
       " 'stargazers_url': 'https://api.github.com/repos/isdsucph/isds2021/stargazers',\n",
       " 'contributors_url': 'https://api.github.com/repos/isdsucph/isds2021/contributors',\n",
       " 'subscribers_url': 'https://api.github.com/repos/isdsucph/isds2021/subscribers',\n",
       " 'subscription_url': 'https://api.github.com/repos/isdsucph/isds2021/subscription',\n",
       " 'commits_url': 'https://api.github.com/repos/isdsucph/isds2021/commits{/sha}',\n",
       " 'git_commits_url': 'https://api.github.com/repos/isdsucph/isds2021/git/commits{/sha}',\n",
       " 'comments_url': 'https://api.github.com/repos/isdsucph/isds2021/comments{/number}',\n",
       " 'issue_comment_url': 'https://api.github.com/repos/isdsucph/isds2021/issues/comments{/number}',\n",
       " 'contents_url': 'https://api.github.com/repos/isdsucph/isds2021/contents/{+path}',\n",
       " 'compare_url': 'https://api.github.com/repos/isdsucph/isds2021/compare/{base}...{head}',\n",
       " 'merges_url': 'https://api.github.com/repos/isdsucph/isds2021/merges',\n",
       " 'archive_url': 'https://api.github.com/repos/isdsucph/isds2021/{archive_format}{/ref}',\n",
       " 'downloads_url': 'https://api.github.com/repos/isdsucph/isds2021/downloads',\n",
       " 'issues_url': 'https://api.github.com/repos/isdsucph/isds2021/issues{/number}',\n",
       " 'pulls_url': 'https://api.github.com/repos/isdsucph/isds2021/pulls{/number}',\n",
       " 'milestones_url': 'https://api.github.com/repos/isdsucph/isds2021/milestones{/number}',\n",
       " 'notifications_url': 'https://api.github.com/repos/isdsucph/isds2021/notifications{?since,all,participating}',\n",
       " 'labels_url': 'https://api.github.com/repos/isdsucph/isds2021/labels{/name}',\n",
       " 'releases_url': 'https://api.github.com/repos/isdsucph/isds2021/releases{/id}',\n",
       " 'deployments_url': 'https://api.github.com/repos/isdsucph/isds2021/deployments',\n",
       " 'created_at': '2021-07-01T08:09:57Z',\n",
       " 'updated_at': '2022-07-14T06:54:49Z',\n",
       " 'pushed_at': '2021-08-23T08:48:57Z',\n",
       " 'git_url': 'git://github.com/isdsucph/isds2021.git',\n",
       " 'ssh_url': 'git@github.com:isdsucph/isds2021.git',\n",
       " 'clone_url': 'https://github.com/isdsucph/isds2021.git',\n",
       " 'svn_url': 'https://github.com/isdsucph/isds2021',\n",
       " 'homepage': '',\n",
       " 'size': 66010,\n",
       " 'stargazers_count': 21,\n",
       " 'watchers_count': 21,\n",
       " 'language': 'Jupyter Notebook',\n",
       " 'has_issues': True,\n",
       " 'has_projects': True,\n",
       " 'has_downloads': True,\n",
       " 'has_wiki': True,\n",
       " 'has_pages': True,\n",
       " 'forks_count': 37,\n",
       " 'mirror_url': None,\n",
       " 'archived': False,\n",
       " 'disabled': False,\n",
       " 'open_issues_count': 11,\n",
       " 'license': {'key': 'mit',\n",
       "  'name': 'MIT License',\n",
       "  'spdx_id': 'MIT',\n",
       "  'url': 'https://api.github.com/licenses/mit',\n",
       "  'node_id': 'MDc6TGljZW5zZTEz'},\n",
       " 'allow_forking': True,\n",
       " 'is_template': False,\n",
       " 'web_commit_signoff_required': False,\n",
       " 'topics': [],\n",
       " 'visibility': 'public',\n",
       " 'forks': 37,\n",
       " 'open_issues': 11,\n",
       " 'watchers': 21,\n",
       " 'default_branch': 'main'}"
      ]
     },
     "execution_count": 58,
     "metadata": {},
     "output_type": "execute_result"
    }
   ],
   "source": [
    "response_json = response.json() # convert response to a list of dicts\n",
    "response_json[0]"
   ]
  },
  {
   "cell_type": "markdown",
   "metadata": {},
   "source": [
    "Now it is easier to see that this is in fact a dictionary. Looking more closely at the output, we can also see that the depth of the dictionary is not trivial - it contains dictionaries of dictionaries.\n",
    "\n",
    "In order to make the output more digestable, use the so-called *pretty printer* that, among other things, arranges the output alphabetically and makes the depth of the output more clearly visible. Take a look and compare with what we had above:"
   ]
  },
  {
   "cell_type": "code",
   "execution_count": 59,
   "metadata": {},
   "outputs": [
    {
     "name": "stdout",
     "output_type": "stream",
     "text": [
      "[{'allow_forking': True,\n",
      "  'archive_url': 'https://api.github.com/repos/isdsucph/isds2021/{archive_format}{/ref}',\n",
      "  'archived': False,\n",
      "  'assignees_url': 'https://api.github.com/repos/isdsucph/isds2021/assignees{/user}',\n",
      "  'blobs_url': 'https://api.github.com/repos/isdsucph/isds2021/git/blobs{/sha}',\n",
      "  'branches_url': 'https://api.github.com/repos/isdsucph/isds2021/branches{/branch}',\n",
      "  'clone_url': 'https://github.com/isdsucph/isds2021.git',\n",
      "  'collaborators_url': 'https://api.github.com/repos/isdsucph/isds2021/collaborators{/collaborator}',\n",
      "  'comments_url': 'https://api.github.com/repos/isdsucph/isds2021/comments{/number}',\n",
      "  'commits_url': 'https://api.github.com/repos/isdsucph/isds2021/commits{/sha}',\n",
      "  'compare_url': 'https://api.github.com/repos/isdsucph/isds2021/compare/{base}...{head}',\n",
      "  'contents_url': 'https://api.github.com/repos/isdsucph/isds2021/contents/{+path}',\n",
      "  'contributors_url': 'https://api.github.com/repos/isdsucph/isds2021/contributors',\n",
      "  'created_at': '2021-07-01T08:09:57Z',\n",
      "  'default_branch': 'main',\n",
      "  'deployments_url': 'https://api.github.com/repos/isdsucph/isds2021/deployments',\n",
      "  'description': 'Introduction to Social Data Science 2021 - a summer school '\n",
      "                 'course https://isdsucph.github.io/isds2021/',\n",
      "  'disabled': False,\n",
      "  'downloads_url': 'https://api.github.com/repos/isdsucph/isds2021/downloads',\n",
      "  'events_url': 'https://api.github.com/repos/isdsucph/isds2021/events',\n",
      "  'fork': False,\n",
      "  'forks': 37,\n",
      "  'forks_count': 37,\n",
      "  'forks_url': 'https://api.github.com/repos/isdsucph/isds2021/forks',\n",
      "  'full_name': 'isdsucph/isds2021',\n",
      "  'git_commits_url': 'https://api.github.com/repos/isdsucph/isds2021/git/commits{/sha}',\n",
      "  'git_refs_url': 'https://api.github.com/repos/isdsucph/isds2021/git/refs{/sha}',\n",
      "  'git_tags_url': 'https://api.github.com/repos/isdsucph/isds2021/git/tags{/sha}',\n",
      "  'git_url': 'git://github.com/isdsucph/isds2021.git',\n",
      "  'has_downloads': True,\n",
      "  'has_issues': True,\n",
      "  'has_pages': True,\n",
      "  'has_projects': True,\n",
      "  'has_wiki': True,\n",
      "  'homepage': '',\n",
      "  'hooks_url': 'https://api.github.com/repos/isdsucph/isds2021/hooks',\n",
      "  'html_url': 'https://github.com/isdsucph/isds2021',\n",
      "  'id': 381957904,\n",
      "  'is_template': False,\n",
      "  'issue_comment_url': 'https://api.github.com/repos/isdsucph/isds2021/issues/comments{/number}',\n",
      "  'issue_events_url': 'https://api.github.com/repos/isdsucph/isds2021/issues/events{/number}',\n",
      "  'issues_url': 'https://api.github.com/repos/isdsucph/isds2021/issues{/number}',\n",
      "  'keys_url': 'https://api.github.com/repos/isdsucph/isds2021/keys{/key_id}',\n",
      "  'labels_url': 'https://api.github.com/repos/isdsucph/isds2021/labels{/name}',\n",
      "  'language': 'Jupyter Notebook',\n",
      "  'languages_url': 'https://api.github.com/repos/isdsucph/isds2021/languages',\n",
      "  'license': {'key': 'mit',\n",
      "              'name': 'MIT License',\n",
      "              'node_id': 'MDc6TGljZW5zZTEz',\n",
      "              'spdx_id': 'MIT',\n",
      "              'url': 'https://api.github.com/licenses/mit'},\n",
      "  'merges_url': 'https://api.github.com/repos/isdsucph/isds2021/merges',\n",
      "  'milestones_url': 'https://api.github.com/repos/isdsucph/isds2021/milestones{/number}',\n",
      "  'mirror_url': None,\n",
      "  'name': 'isds2021',\n",
      "  'node_id': 'MDEwOlJlcG9zaXRvcnkzODE5NTc5MDQ=',\n",
      "  'notifications_url': 'https://api.github.com/repos/isdsucph/isds2021/notifications{?since,all,participating}',\n",
      "  'open_issues': 11,\n",
      "  'open_issues_count': 11,\n",
      "  'owner': {'avatar_url': 'https://avatars.githubusercontent.com/u/86770179?v=4',\n",
      "            'events_url': 'https://api.github.com/users/isdsucph/events{/privacy}',\n",
      "            'followers_url': 'https://api.github.com/users/isdsucph/followers',\n",
      "            'following_url': 'https://api.github.com/users/isdsucph/following{/other_user}',\n",
      "            'gists_url': 'https://api.github.com/users/isdsucph/gists{/gist_id}',\n",
      "            'gravatar_id': '',\n",
      "            'html_url': 'https://github.com/isdsucph',\n",
      "            'id': 86770179,\n",
      "            'login': 'isdsucph',\n",
      "            'node_id': 'MDQ6VXNlcjg2NzcwMTc5',\n",
      "            'organizations_url': 'https://api.github.com/users/isdsucph/orgs',\n",
      "            'received_events_url': 'https://api.github.com/users/isdsucph/received_events',\n",
      "            'repos_url': 'https://api.github.com/users/isdsucph/repos',\n",
      "            'site_admin': False,\n",
      "            'starred_url': 'https://api.github.com/users/isdsucph/starred{/owner}{/repo}',\n",
      "            'subscriptions_url': 'https://api.github.com/users/isdsucph/subscriptions',\n",
      "            'type': 'User',\n",
      "            'url': 'https://api.github.com/users/isdsucph'},\n",
      "  'private': False,\n",
      "  'pulls_url': 'https://api.github.com/repos/isdsucph/isds2021/pulls{/number}',\n",
      "  'pushed_at': '2021-08-23T08:48:57Z',\n",
      "  'releases_url': 'https://api.github.com/repos/isdsucph/isds2021/releases{/id}',\n",
      "  'size': 66010,\n",
      "  'ssh_url': 'git@github.com:isdsucph/isds2021.git',\n",
      "  'stargazers_count': 21,\n",
      "  'stargazers_url': 'https://api.github.com/repos/isdsucph/isds2021/stargazers',\n",
      "  'statuses_url': 'https://api.github.com/repos/isdsucph/isds2021/statuses/{sha}',\n",
      "  'subscribers_url': 'https://api.github.com/repos/isdsucph/isds2021/subscribers',\n",
      "  'subscription_url': 'https://api.github.com/repos/isdsucph/isds2021/subscription',\n",
      "  'svn_url': 'https://github.com/isdsucph/isds2021',\n",
      "  'tags_url': 'https://api.github.com/repos/isdsucph/isds2021/tags',\n",
      "  'teams_url': 'https://api.github.com/repos/isdsucph/isds2021/teams',\n",
      "  'topics': [],\n",
      "  'trees_url': 'https://api.github.com/repos/isdsucph/isds2021/git/trees{/sha}',\n",
      "  'updated_at': '2022-07-14T06:54:49Z',\n",
      "  'url': 'https://api.github.com/repos/isdsucph/isds2021',\n",
      "  'visibility': 'public',\n",
      "  'watchers': 21,\n",
      "  'watchers_count': 21,\n",
      "  'web_commit_signoff_required': False},\n",
      " {'allow_forking': True,\n",
      "  'archive_url': 'https://api.github.com/repos/isdsucph/isds2022/{archive_format}{/ref}',\n",
      "  'archived': False,\n",
      "  'assignees_url': 'https://api.github.com/repos/isdsucph/isds2022/assignees{/user}',\n",
      "  'blobs_url': 'https://api.github.com/repos/isdsucph/isds2022/git/blobs{/sha}',\n",
      "  'branches_url': 'https://api.github.com/repos/isdsucph/isds2022/branches{/branch}',\n",
      "  'clone_url': 'https://github.com/isdsucph/isds2022.git',\n",
      "  'collaborators_url': 'https://api.github.com/repos/isdsucph/isds2022/collaborators{/collaborator}',\n",
      "  'comments_url': 'https://api.github.com/repos/isdsucph/isds2022/comments{/number}',\n",
      "  'commits_url': 'https://api.github.com/repos/isdsucph/isds2022/commits{/sha}',\n",
      "  'compare_url': 'https://api.github.com/repos/isdsucph/isds2022/compare/{base}...{head}',\n",
      "  'contents_url': 'https://api.github.com/repos/isdsucph/isds2022/contents/{+path}',\n",
      "  'contributors_url': 'https://api.github.com/repos/isdsucph/isds2022/contributors',\n",
      "  'created_at': '2022-06-17T09:49:06Z',\n",
      "  'default_branch': 'main',\n",
      "  'deployments_url': 'https://api.github.com/repos/isdsucph/isds2022/deployments',\n",
      "  'description': 'Introduction to Social Data Science 2022 - a summer school '\n",
      "                 'course https://isdsucph.github.io/isds2022/',\n",
      "  'disabled': False,\n",
      "  'downloads_url': 'https://api.github.com/repos/isdsucph/isds2022/downloads',\n",
      "  'events_url': 'https://api.github.com/repos/isdsucph/isds2022/events',\n",
      "  'fork': False,\n",
      "  'forks': 17,\n",
      "  'forks_count': 17,\n",
      "  'forks_url': 'https://api.github.com/repos/isdsucph/isds2022/forks',\n",
      "  'full_name': 'isdsucph/isds2022',\n",
      "  'git_commits_url': 'https://api.github.com/repos/isdsucph/isds2022/git/commits{/sha}',\n",
      "  'git_refs_url': 'https://api.github.com/repos/isdsucph/isds2022/git/refs{/sha}',\n",
      "  'git_tags_url': 'https://api.github.com/repos/isdsucph/isds2022/git/tags{/sha}',\n",
      "  'git_url': 'git://github.com/isdsucph/isds2022.git',\n",
      "  'has_downloads': True,\n",
      "  'has_issues': True,\n",
      "  'has_pages': True,\n",
      "  'has_projects': True,\n",
      "  'has_wiki': True,\n",
      "  'homepage': None,\n",
      "  'hooks_url': 'https://api.github.com/repos/isdsucph/isds2022/hooks',\n",
      "  'html_url': 'https://github.com/isdsucph/isds2022',\n",
      "  'id': 504478840,\n",
      "  'is_template': False,\n",
      "  'issue_comment_url': 'https://api.github.com/repos/isdsucph/isds2022/issues/comments{/number}',\n",
      "  'issue_events_url': 'https://api.github.com/repos/isdsucph/isds2022/issues/events{/number}',\n",
      "  'issues_url': 'https://api.github.com/repos/isdsucph/isds2022/issues{/number}',\n",
      "  'keys_url': 'https://api.github.com/repos/isdsucph/isds2022/keys{/key_id}',\n",
      "  'labels_url': 'https://api.github.com/repos/isdsucph/isds2022/labels{/name}',\n",
      "  'language': 'Jupyter Notebook',\n",
      "  'languages_url': 'https://api.github.com/repos/isdsucph/isds2022/languages',\n",
      "  'license': {'key': 'mit',\n",
      "              'name': 'MIT License',\n",
      "              'node_id': 'MDc6TGljZW5zZTEz',\n",
      "              'spdx_id': 'MIT',\n",
      "              'url': 'https://api.github.com/licenses/mit'},\n",
      "  'merges_url': 'https://api.github.com/repos/isdsucph/isds2022/merges',\n",
      "  'milestones_url': 'https://api.github.com/repos/isdsucph/isds2022/milestones{/number}',\n",
      "  'mirror_url': None,\n",
      "  'name': 'isds2022',\n",
      "  'node_id': 'R_kgDOHhG8eA',\n",
      "  'notifications_url': 'https://api.github.com/repos/isdsucph/isds2022/notifications{?since,all,participating}',\n",
      "  'open_issues': 17,\n",
      "  'open_issues_count': 17,\n",
      "  'owner': {'avatar_url': 'https://avatars.githubusercontent.com/u/86770179?v=4',\n",
      "            'events_url': 'https://api.github.com/users/isdsucph/events{/privacy}',\n",
      "            'followers_url': 'https://api.github.com/users/isdsucph/followers',\n",
      "            'following_url': 'https://api.github.com/users/isdsucph/following{/other_user}',\n",
      "            'gists_url': 'https://api.github.com/users/isdsucph/gists{/gist_id}',\n",
      "            'gravatar_id': '',\n",
      "            'html_url': 'https://github.com/isdsucph',\n",
      "            'id': 86770179,\n",
      "            'login': 'isdsucph',\n",
      "            'node_id': 'MDQ6VXNlcjg2NzcwMTc5',\n",
      "            'organizations_url': 'https://api.github.com/users/isdsucph/orgs',\n",
      "            'received_events_url': 'https://api.github.com/users/isdsucph/received_events',\n",
      "            'repos_url': 'https://api.github.com/users/isdsucph/repos',\n",
      "            'site_admin': False,\n",
      "            'starred_url': 'https://api.github.com/users/isdsucph/starred{/owner}{/repo}',\n",
      "            'subscriptions_url': 'https://api.github.com/users/isdsucph/subscriptions',\n",
      "            'type': 'User',\n",
      "            'url': 'https://api.github.com/users/isdsucph'},\n",
      "  'private': False,\n",
      "  'pulls_url': 'https://api.github.com/repos/isdsucph/isds2022/pulls{/number}',\n",
      "  'pushed_at': '2022-08-03T01:01:04Z',\n",
      "  'releases_url': 'https://api.github.com/repos/isdsucph/isds2022/releases{/id}',\n",
      "  'size': 21110,\n",
      "  'ssh_url': 'git@github.com:isdsucph/isds2022.git',\n",
      "  'stargazers_count': 20,\n",
      "  'stargazers_url': 'https://api.github.com/repos/isdsucph/isds2022/stargazers',\n",
      "  'statuses_url': 'https://api.github.com/repos/isdsucph/isds2022/statuses/{sha}',\n",
      "  'subscribers_url': 'https://api.github.com/repos/isdsucph/isds2022/subscribers',\n",
      "  'subscription_url': 'https://api.github.com/repos/isdsucph/isds2022/subscription',\n",
      "  'svn_url': 'https://github.com/isdsucph/isds2022',\n",
      "  'tags_url': 'https://api.github.com/repos/isdsucph/isds2022/tags',\n",
      "  'teams_url': 'https://api.github.com/repos/isdsucph/isds2022/teams',\n",
      "  'topics': [],\n",
      "  'trees_url': 'https://api.github.com/repos/isdsucph/isds2022/git/trees{/sha}',\n",
      "  'updated_at': '2022-08-01T11:25:49Z',\n",
      "  'url': 'https://api.github.com/repos/isdsucph/isds2022',\n",
      "  'visibility': 'public',\n",
      "  'watchers': 20,\n",
      "  'watchers_count': 20,\n",
      "  'web_commit_signoff_required': False},\n",
      " {'allow_forking': True,\n",
      "  'archive_url': 'https://api.github.com/repos/isdsucph/isdsucph.github.io/{archive_format}{/ref}',\n",
      "  'archived': False,\n",
      "  'assignees_url': 'https://api.github.com/repos/isdsucph/isdsucph.github.io/assignees{/user}',\n",
      "  'blobs_url': 'https://api.github.com/repos/isdsucph/isdsucph.github.io/git/blobs{/sha}',\n",
      "  'branches_url': 'https://api.github.com/repos/isdsucph/isdsucph.github.io/branches{/branch}',\n",
      "  'clone_url': 'https://github.com/isdsucph/isdsucph.github.io.git',\n",
      "  'collaborators_url': 'https://api.github.com/repos/isdsucph/isdsucph.github.io/collaborators{/collaborator}',\n",
      "  'comments_url': 'https://api.github.com/repos/isdsucph/isdsucph.github.io/comments{/number}',\n",
      "  'commits_url': 'https://api.github.com/repos/isdsucph/isdsucph.github.io/commits{/sha}',\n",
      "  'compare_url': 'https://api.github.com/repos/isdsucph/isdsucph.github.io/compare/{base}...{head}',\n",
      "  'contents_url': 'https://api.github.com/repos/isdsucph/isdsucph.github.io/contents/{+path}',\n",
      "  'contributors_url': 'https://api.github.com/repos/isdsucph/isdsucph.github.io/contributors',\n",
      "  'created_at': '2021-07-01T08:13:49Z',\n",
      "  'default_branch': 'main',\n",
      "  'deployments_url': 'https://api.github.com/repos/isdsucph/isdsucph.github.io/deployments',\n",
      "  'description': None,\n",
      "  'disabled': False,\n",
      "  'downloads_url': 'https://api.github.com/repos/isdsucph/isdsucph.github.io/downloads',\n",
      "  'events_url': 'https://api.github.com/repos/isdsucph/isdsucph.github.io/events',\n",
      "  'fork': False,\n",
      "  'forks': 0,\n",
      "  'forks_count': 0,\n",
      "  'forks_url': 'https://api.github.com/repos/isdsucph/isdsucph.github.io/forks',\n",
      "  'full_name': 'isdsucph/isdsucph.github.io',\n",
      "  'git_commits_url': 'https://api.github.com/repos/isdsucph/isdsucph.github.io/git/commits{/sha}',\n",
      "  'git_refs_url': 'https://api.github.com/repos/isdsucph/isdsucph.github.io/git/refs{/sha}',\n",
      "  'git_tags_url': 'https://api.github.com/repos/isdsucph/isdsucph.github.io/git/tags{/sha}',\n",
      "  'git_url': 'git://github.com/isdsucph/isdsucph.github.io.git',\n",
      "  'has_downloads': True,\n",
      "  'has_issues': True,\n",
      "  'has_pages': True,\n",
      "  'has_projects': True,\n",
      "  'has_wiki': True,\n",
      "  'homepage': None,\n",
      "  'hooks_url': 'https://api.github.com/repos/isdsucph/isdsucph.github.io/hooks',\n",
      "  'html_url': 'https://github.com/isdsucph/isdsucph.github.io',\n",
      "  'id': 381958923,\n",
      "  'is_template': False,\n",
      "  'issue_comment_url': 'https://api.github.com/repos/isdsucph/isdsucph.github.io/issues/comments{/number}',\n",
      "  'issue_events_url': 'https://api.github.com/repos/isdsucph/isdsucph.github.io/issues/events{/number}',\n",
      "  'issues_url': 'https://api.github.com/repos/isdsucph/isdsucph.github.io/issues{/number}',\n",
      "  'keys_url': 'https://api.github.com/repos/isdsucph/isdsucph.github.io/keys{/key_id}',\n",
      "  'labels_url': 'https://api.github.com/repos/isdsucph/isdsucph.github.io/labels{/name}',\n",
      "  'language': None,\n",
      "  'languages_url': 'https://api.github.com/repos/isdsucph/isdsucph.github.io/languages',\n",
      "  'license': None,\n",
      "  'merges_url': 'https://api.github.com/repos/isdsucph/isdsucph.github.io/merges',\n",
      "  'milestones_url': 'https://api.github.com/repos/isdsucph/isdsucph.github.io/milestones{/number}',\n",
      "  'mirror_url': None,\n",
      "  'name': 'isdsucph.github.io',\n",
      "  'node_id': 'MDEwOlJlcG9zaXRvcnkzODE5NTg5MjM=',\n",
      "  'notifications_url': 'https://api.github.com/repos/isdsucph/isdsucph.github.io/notifications{?since,all,participating}',\n",
      "  'open_issues': 0,\n",
      "  'open_issues_count': 0,\n",
      "  'owner': {'avatar_url': 'https://avatars.githubusercontent.com/u/86770179?v=4',\n",
      "            'events_url': 'https://api.github.com/users/isdsucph/events{/privacy}',\n",
      "            'followers_url': 'https://api.github.com/users/isdsucph/followers',\n",
      "            'following_url': 'https://api.github.com/users/isdsucph/following{/other_user}',\n",
      "            'gists_url': 'https://api.github.com/users/isdsucph/gists{/gist_id}',\n",
      "            'gravatar_id': '',\n",
      "            'html_url': 'https://github.com/isdsucph',\n",
      "            'id': 86770179,\n",
      "            'login': 'isdsucph',\n",
      "            'node_id': 'MDQ6VXNlcjg2NzcwMTc5',\n",
      "            'organizations_url': 'https://api.github.com/users/isdsucph/orgs',\n",
      "            'received_events_url': 'https://api.github.com/users/isdsucph/received_events',\n",
      "            'repos_url': 'https://api.github.com/users/isdsucph/repos',\n",
      "            'site_admin': False,\n",
      "            'starred_url': 'https://api.github.com/users/isdsucph/starred{/owner}{/repo}',\n",
      "            'subscriptions_url': 'https://api.github.com/users/isdsucph/subscriptions',\n",
      "            'type': 'User',\n",
      "            'url': 'https://api.github.com/users/isdsucph'},\n",
      "  'private': False,\n",
      "  'pulls_url': 'https://api.github.com/repos/isdsucph/isdsucph.github.io/pulls{/number}',\n",
      "  'pushed_at': '2021-07-01T08:13:50Z',\n",
      "  'releases_url': 'https://api.github.com/repos/isdsucph/isdsucph.github.io/releases{/id}',\n",
      "  'size': 0,\n",
      "  'ssh_url': 'git@github.com:isdsucph/isdsucph.github.io.git',\n",
      "  'stargazers_count': 0,\n",
      "  'stargazers_url': 'https://api.github.com/repos/isdsucph/isdsucph.github.io/stargazers',\n",
      "  'statuses_url': 'https://api.github.com/repos/isdsucph/isdsucph.github.io/statuses/{sha}',\n",
      "  'subscribers_url': 'https://api.github.com/repos/isdsucph/isdsucph.github.io/subscribers',\n",
      "  'subscription_url': 'https://api.github.com/repos/isdsucph/isdsucph.github.io/subscription',\n",
      "  'svn_url': 'https://github.com/isdsucph/isdsucph.github.io',\n",
      "  'tags_url': 'https://api.github.com/repos/isdsucph/isdsucph.github.io/tags',\n",
      "  'teams_url': 'https://api.github.com/repos/isdsucph/isdsucph.github.io/teams',\n",
      "  'topics': [],\n",
      "  'trees_url': 'https://api.github.com/repos/isdsucph/isdsucph.github.io/git/trees{/sha}',\n",
      "  'updated_at': '2021-07-01T08:13:53Z',\n",
      "  'url': 'https://api.github.com/repos/isdsucph/isdsucph.github.io',\n",
      "  'visibility': 'public',\n",
      "  'watchers': 0,\n",
      "  'watchers_count': 0,\n",
      "  'web_commit_signoff_required': False}]\n"
     ]
    }
   ],
   "source": [
    "import pprint #Data pretty printer\n",
    "pprint.pprint(response.json()) #Everything is aranged alphabetically and in appropriate levels"
   ]
  },
  {
   "cell_type": "markdown",
   "metadata": {},
   "source": [
    "## The Punk API\n",
    "\n",
    "Now, it is time for you to request information through an API. First, we will work with the punk API that contains information on a large selection of beers. In this part of exercises, you are going to navigate in the information on these beers. Second, you are going to extract information from the DST (Statistics Denmark) API.\n",
    "\n",
    "The [punk API](https://punkapi.com/) serves information about _beers_. It is a well made and well documented API which makes it great for learning about APIs. \n",
    "\n",
    "> **Ex. 5.4.1:** Read the documentation on the Punk API available [here](https://punkapi.com/documentation/v2). What is the server url (i.e. root endpoint) of the Punk API? Does it require authentication? Then use the Punk API to make a request for the first 80 beers brewed after April, 2004 with an ABV of at least 5."
   ]
  },
  {
   "cell_type": "code",
   "execution_count": 72,
   "metadata": {
    "deletable": false,
    "nbgrader": {
     "cell_type": "code",
     "checksum": "0779d90d691b0832d3385b4a1dd546cb",
     "grade": false,
     "grade_id": "cell-d6af29d54fd7ded7",
     "locked": false,
     "schema_version": 3,
     "solution": true,
     "task": false
    }
   },
   "outputs": [],
   "source": [
    "import requests\n",
    "response = requests.get('https://api.punkapi.com/v2/beers?per_page=80&brewed_after=4-2004&abv_gt=5')"
   ]
  },
  {
   "cell_type": "markdown",
   "metadata": {},
   "source": [
    "> **Ex. 5.4.2:** What object type is the API's JSON response? What about the individual items in the container? Convert the response object to a suitable format and answer the following questions:\n",
    "> 1) How many beers are there in the JSON object?\n",
    ">\n",
    "> 2) Print the response with and without the pretty printer. See any difference?\n",
    ">\n",
    "> 3) Now print only the names of the beers in the JSON object using lower case characters.\n",
    ">\n",
    "> 4) Select the beer called Rabiator from the JSON object. What is the suggested food pairing?\n",
    ">\n",
    "> 5) Select the beer called Hello My Name Is Beastie from the JSON object. Which malt ingredients does the Hello My Name Is Beastie contain?\n"
   ]
  },
  {
   "cell_type": "code",
   "execution_count": 81,
   "metadata": {
    "deletable": false,
    "nbgrader": {
     "cell_type": "code",
     "checksum": "09d8a7b769ef0e4201156e70158197be",
     "grade": false,
     "grade_id": "cell-1c6a5eef920b6c70",
     "locked": false,
     "schema_version": 3,
     "solution": true,
     "task": false
    }
   },
   "outputs": [
    {
     "name": "stdout",
     "output_type": "stream",
     "text": [
      "Number of beers 80 \n",
      "\n",
      "Beer names: ['pilsen lager', 'avery brown dredge', 'electric india', 'ab:12', 'ab:07', 'bramling x', 'misspent youth', 'arcade nation', 'mixtape 8', 'libertine porter', 'ab:06', 'russian doll – india pale ale', 'hello my name is mette-marit', 'rabiator', 'devine rebel (w/ mikkeller)', 'storm', 'the end of history', 'dog b', 'hbc 369', '10 heads high', 'dana - ipa is dead', 'ab:05', 'sorachi ace', 'bourbon baby', 'shipwrecker circus (w/ oskar blues)', 'zephyr', 'belgian trappist', 'kohatu - ipa is dead', 'hello my name is vladimir', 'ab:17', 'hardcore ipa', 'dog wired (w/8 wired)', 'anarchist alchemist', 'ab:15', 'goldings - ipa is dead', 'ab:14', 'lost dog (w/lost abbey)', 'tm10', 'paradox islay', 'albino squid assasin', 'amarillo - ipa is dead', 'black eyed king imp', 'prototype 27', 'coffee imperial stout', 'mandarina bavaria - ipa is dead', 'dogma', 'ab:08', 'sunk punk', 'sub hop', 'tokyo rising sun - lowland', 'hunter foundation pale ale', 'ab:16', 'sunmaid stout', 'whisky sour - b-sides', 'black eyed king imp - vietnamese coffee edition', 'never mind the anabolics', '#mashtag 2013', 'ab:18', 'hops kill nazis', 'ab:04', 'hopped-up brown ale - prototype challenge', 'comet', 'original dogma (née speedball)', 'bavarian weizen', 'citra', '#mashtag 2015', 'ab:09', 'mango gose - b-sides', 'everday anarchy', 'lumberjack stout', \"bowman's beard - b-sides\", 'pumpkin king', 'hello my name is päivi', 'elvis juice v2.0 - prototype challenge', 'riptide', 'peach therapy', 'clown king', 'india pale weizen (w/ weihenstephan)', 'hello my name is beastie', 'punk ipa 2010 - current']  \n",
      "\n",
      "Rabiator is the 14th last entry, i.e. index 13.  \n",
      "\n",
      "Suggested food pairing for the Rabiator is: {'Grilled portabello mushroom burger', 'Chicken sausages with creamy mash', 'Caramel and banana meringue pie'} \n",
      "\n",
      "Hello My Name Is Beastie is the 2nd last entry, i.e. index -2.  \n",
      "\n",
      "Malt ingredients in Hello My Name Is Beastie: {'Maris Otter Extra Pale', 'Caramalt'}\n"
     ]
    }
   ],
   "source": [
    "beers = response.json()\n",
    "\n",
    "\n",
    "# 1) How many beers are in the JSON object?\n",
    "print(f\"Number of beers {len(beers)} \\n\")\n",
    "\n",
    "# 2) Print the response with  the pretty printer\n",
    "#pprint.pprint(beers)\n",
    "\n",
    "# 3) Print the names of the beers in the JSON object using lower case characters.\n",
    "print('Beer names:', [b['name'].lower() for b in beers], ' \\n')\n",
    "#pprint.pprint(beers)\n",
    "\n",
    "# 4) Select the beer Rabiator from the JSON object. What is the suggested food pairing?\n",
    "print(f'{beers[13][\"name\"]} is the 14th last entry, i.e. index 13.  \\n')\n",
    "ra = beers[13]\n",
    "print('Suggested food pairing for the Rabiator is:', set(i for i in ra['food_pairing']), '\\n')\n",
    "\n",
    "# 5) Select the beer called Hello My Name Is Beastie from the JSON object. Which malt ingredients does the Bourbon Baby contain?\n",
    "print(f'{beers[-2][\"name\"]} is the 2nd last entry, i.e. index -2.  \\n')\n",
    "bb = beers[-2]\n",
    "print('Malt ingredients in Hello My Name Is Beastie:', set(i['name'] for i in bb['ingredients']['malt']))\n",
    "\n"
   ]
  },
  {
   "cell_type": "markdown",
   "metadata": {},
   "source": [
    "> **Ex. 5.4.3:** Save the beers as a JSON file on your machine.\n",
    "\n",
    "> _Hint:_ If still in doubt about how to do this, you might want to take a look at the [json](https://docs.python.org/3/library/json.html) module.\n"
   ]
  },
  {
   "cell_type": "code",
   "execution_count": 80,
   "metadata": {
    "deletable": false,
    "nbgrader": {
     "cell_type": "code",
     "checksum": "ace20a7b7c09517d1318007ea25c33ec",
     "grade": false,
     "grade_id": "cell-d5feea65f34d4ab1",
     "locked": false,
     "schema_version": 3,
     "solution": true,
     "task": false
    }
   },
   "outputs": [],
   "source": [
    "import json\n",
    "\n",
    "with open('beers.json', 'w') as f:\n",
    "    f.write(json.dumps(beers))\n",
    "\n",
    "with open(\"beers.json\", \"r\") as f:\n",
    "    beers = json.loads(f.read())"
   ]
  },
  {
   "cell_type": "markdown",
   "metadata": {},
   "source": [
    "## The API for Statistics Denmark \n",
    "\n",
    "Statistics Denmark (DST) provide an API access to their aggregate data. For developers, they supply a [console](https://api.statbank.dk/console) for testing. In this exercise, we will code up a simple script which can collect data from the DST API. \n",
    "\n",
    "> **Ex 5.4.4:** Use the API console to construct a GET request which retrieves the table FOLK1A split by quarter. The return should be in JSON format. We want all available dates.\n",
    ">\n",
    ">Then write a function `construct_link()` which takes as inputs: a table ID (e.g. `'FOLK1A'`) and a list of strings like `['var1=*', 'var2=somevalue']`. The function should return the proper URL for getting a dataset with the specified variables (e.g. in this case all levels of var1, but only where var2=somevalue).\n",
    "\n",
    "> _Hint:_ The time variable is called 'tid'. To select all available values, set the value-id to '*'. Spend a little time with the console to get a sense of how the URLs are constructed.\n"
   ]
  },
  {
   "cell_type": "code",
   "execution_count": 83,
   "metadata": {
    "deletable": false,
    "nbgrader": {
     "cell_type": "code",
     "checksum": "6d92606bf5324f19480c040a7c76c3f8",
     "grade": false,
     "grade_id": "cell-d174a99ed0af2f0e",
     "locked": false,
     "schema_version": 3,
     "solution": true,
     "task": false
    }
   },
   "outputs": [
    {
     "data": {
      "text/plain": [
       "'https://api.statbank.dk/v1/data/FOLK1A/JSONSTAT?lang=en&Tid=*'"
      ]
     },
     "execution_count": 83,
     "metadata": {},
     "output_type": "execute_result"
    }
   ],
   "source": [
    "'https://api.statbank.dk/v1/data/FOLK1A/JSONSTAT?lang=en'\n",
    "\n",
    "def construct_link(table_id, variables):\n",
    "    link = f'https://api.statbank.dk/v1/data/{table_id}/JSONSTAT?lang=en'\n",
    "    for var in variables:\n",
    "        link += f'&{var}'\n",
    "    return link\n",
    "\n",
    "construct_link('FOLK1A', ['Tid=*'])"
   ]
  },
  {
   "cell_type": "markdown",
   "metadata": {},
   "source": [
    "When executing the request in the console, you should get a json file as output. Next, lets write some code to load these json files directly into python. \n",
    "\n",
    "\n",
    "> **Ex. 5.4.5:** Use the `requests` module and `construct_link()` to request home value data from the \"EJDFOE1\" table. Get all available years (variable \"Tid\"), but only for Frederiksberg (BOPKOM=147), apartments (EJENTYP=B), market values (VAERDI=100) and average values in DKK units (ENHED=120). Unpack the json payload and store the result. Wrap the whole thing in a function which takes an url as input and returns the corresponding output.\n",
    "\n",
    "> _Hint:_ The `requests.response` object has a `.json()` method. "
   ]
  },
  {
   "cell_type": "code",
   "execution_count": 85,
   "metadata": {
    "deletable": false,
    "nbgrader": {
     "cell_type": "code",
     "checksum": "fa171d0bfbc603977659fd1f56f9b7a2",
     "grade": false,
     "grade_id": "cell-33bba55a2e8d0fc5",
     "locked": false,
     "schema_version": 3,
     "solution": true,
     "task": false
    }
   },
   "outputs": [
    {
     "data": {
      "text/plain": [
       "{2004: 1831863,\n",
       " 2005: 2432527,\n",
       " 2006: 2967807,\n",
       " 2007: 2689005,\n",
       " 2008: 2411340,\n",
       " 2009: 2169275,\n",
       " 2010: 2404517,\n",
       " 2011: 2476094,\n",
       " 2012: 2603080,\n",
       " 2013: 2780182,\n",
       " 2014: 3043468,\n",
       " 2015: 3360457,\n",
       " 2016: 3514799,\n",
       " 2017: 3671493,\n",
       " 2018: 3744034,\n",
       " 2019: 3762944,\n",
       " 2020: 3792786,\n",
       " 2021: 3770043}"
      ]
     },
     "execution_count": 85,
     "metadata": {},
     "output_type": "execute_result"
    }
   ],
   "source": [
    "url = construct_link('EJDFOE1', ['Tid=*', 'BOPKOM=147', 'EJENTYP=B', 'VAERDI=100', 'ENHED=120'])\n",
    "\n",
    "def create_data(url):\n",
    "    response = requests.get(url).json()\n",
    "    values = response['dataset']['value']\n",
    "    years = response['dataset']['dimension']['Tid']['category']['index']\n",
    "    years = list(map(int, years))\n",
    "    data = dict(zip(years, values))\n",
    "    return data\n",
    "\n",
    "data = create_data(url)\n",
    "data"
   ]
  },
  {
   "cell_type": "markdown",
   "metadata": {},
   "source": [
    "> **Ex. 5.4.6:** Extract the values for Frederiksberg in each year. Store the results as a list."
   ]
  },
  {
   "cell_type": "code",
   "execution_count": 93,
   "metadata": {
    "deletable": false,
    "nbgrader": {
     "cell_type": "code",
     "checksum": "f6bd7935f324dbffbf537f86daa78dde",
     "grade": false,
     "grade_id": "cell-792e1879090acb1f",
     "locked": false,
     "schema_version": 3,
     "solution": true,
     "task": false
    }
   },
   "outputs": [],
   "source": [
    "frederiksberg = list(data.values())"
   ]
  },
  {
   "cell_type": "markdown",
   "metadata": {},
   "source": [
    "> **Ex. 5.4.7:** Repeat 5.4.5 and 5.4.6 but this time only for Copenhagen (BOPKOM=101). Store the numbers in a new list and use the `plot_values` (supplied below) function to plot the (log of) the data. Interpret the plot."
   ]
  },
  {
   "cell_type": "code",
   "execution_count": 90,
   "metadata": {},
   "outputs": [],
   "source": [
    "# Just run this once, do not change it.\n",
    "import matplotlib.pyplot as plt \n",
    "import numpy as np\n",
    "\n",
    "def plot_values(val1, val2):\n",
    "    val1 = val1\n",
    "    val2 = val2\n",
    "    \"\"\" Plots lineplot of the number of births split by gender.\n",
    "    \n",
    "    Args: \n",
    "        boys: a list of boy births by year\n",
    "        girls: a list of girl births by year\n",
    "    \"\"\"\n",
    "    if not len(val1) == len(val2):\n",
    "        raise ValueError('There must be the same number of observations for boys and girls')\n",
    "    \n",
    "    labels = [f'{year}' for year in range(2004,2021)]\n",
    "    \n",
    "    plt.grid(color='black', linestyle='-', linewidth=0.1, axis='x')\n",
    "    \n",
    "    plt.plot(range(len(val1)), val1, color = 'blue', label = 'Frederiksberg')\n",
    "    plt.plot(range(len(val1)), val2, color = 'red', label = 'Copenhagen')\n",
    "    plt.yscale(\"log\")\n",
    "    plt.xticks([i for i in range(len(val1)) if i%2 == 0],\n",
    "               [l for i,l in zip(range(len(val1)),labels) if i%2 == 0],\n",
    "               rotation = 'horizontal')\n",
    "    plt.xlabel('Year')\n",
    "    plt.ylabel('Market Value of Apartments')\n",
    "    \n",
    "    plt.legend()\n",
    "    plt.show()"
   ]
  },
  {
   "cell_type": "code",
   "execution_count": 95,
   "metadata": {
    "deletable": false,
    "nbgrader": {
     "cell_type": "code",
     "checksum": "61afe17e8fde46f0afffb8e50c5d6b86",
     "grade": false,
     "grade_id": "cell-0ea2577312192992",
     "locked": false,
     "schema_version": 3,
     "solution": true,
     "task": false
    }
   },
   "outputs": [
    {
     "data": {
      "image/png": "[encoded data removed]",
      "text/plain": [
       "<Figure size 432x288 with 1 Axes>"
      ]
     },
     "metadata": {
      "needs_background": "light"
     },
     "output_type": "display_data"
    }
   ],
   "source": [
    "url2 = construct_link('EJDFOE1', ['Tid=*', 'BOPKOM=101', 'EJENTYP=B', 'VAERDI=100', 'ENHED=120'])\n",
    "\n",
    "data = create_data(url2)\n",
    "Copenhagen = list(data.values())\n",
    "\n",
    "plot_values(frederiksberg, Copenhagen)"
   ]
  },
  {
   "cell_type": "markdown",
   "metadata": {},
   "source": [
    "# Part 5: Bonus Exercises $-$ Traffic Data in Copenhagen\n",
    "\n",
    "This set of bonus exercises allows you to apply the tools that you have learned in session 2 to 5. Note that they are not mandatory $-$ rather, our hopes are the exercises will provide you with an additional opportunity to (i) strenghten your data structuring skills and (ii) see how you have already learned a series of skills that work nicely together. \n",
    "\n",
    "In this set of bonus exercises, you will be working with traffic data from Copenhagen Municipality.\n",
    "\n",
    "The municipality have made the data openly available through the [opendata.dk](http://www.opendata.dk/) platform. We will use the data from traffic counters to construct a dataset of hourly traffic. We will use this data to get basic insights on the development in traffic over time and relate it to weather. The gist here is to practice a very important skill in Data Science: being able to quickly fetch data from the web and structure it so that you can work with it. Scraping usually gets a bit more advanced than what we will do today, but the following exercises should give you a taste for how it works. The bulk of these exercise, however, revolve around using the Pandas library to structure and analyze data."
   ]
  },
  {
   "cell_type": "markdown",
   "metadata": {},
   "source": [
    "## Part 5.5.A: Getting some data to work with\n",
    "\n",
    "Hence follows a simple scraping exercise where you (1) collect urls for datasets in the webpage listing data on traffic counters and (2) use these urls to load the data into one dataframe.\n",
    "\n",
    "> **Ex. 5.5.1:** *(Bonus)* Using the requests module, extract the html markup of the webpage data.kk.dk/dataset/faste-trafiktaellinger and store it as a string in a new variable."
   ]
  },
  {
   "cell_type": "code",
   "execution_count": 96,
   "metadata": {
    "deletable": false,
    "nbgrader": {
     "cell_type": "code",
     "checksum": "9176d5fa5e602c0cc9a83fc019b5e06c",
     "grade": false,
     "grade_id": "cell-66d30cd4ddd300f6",
     "locked": false,
     "schema_version": 3,
     "solution": true,
     "task": false
    }
   },
   "outputs": [],
   "source": [
    "from requests import get \n",
    "\n",
    "url = 'https://www.opendata.dk/city-of-copenhagen/faste-trafiktaellinger'\n",
    "resp = get(url)\n",
    "\n",
    "html = resp.text"
   ]
  },
  {
   "cell_type": "markdown",
   "metadata": {},
   "source": [
    "> **Ex. 5.5.2:** *(Bonus)* Using the re module, extract a list of all the urls in the html string and store them in a new variable.\n",
    "\n",
    "> _Hint:_ Try using the re.findall method. You may want to Google around to figure out how to do this. Searching for something along the lines of \"extract all links in html regex python\" and hitting the first StackOverflow link will probably get you farther than reading elaborate documentation."
   ]
  },
  {
   "cell_type": "code",
   "execution_count": null,
   "metadata": {
    "deletable": false,
    "nbgrader": {
     "cell_type": "code",
     "checksum": "788530dc03e9f126847d8481b20ed13e",
     "grade": false,
     "grade_id": "cell-b6352a75b3acd612",
     "locked": false,
     "schema_version": 3,
     "solution": true,
     "task": false
    }
   },
   "outputs": [],
   "source": [
    "import re \n",
    "\n",
    "# YOUR CODE HERE\n",
    "raise NotImplementedError()"
   ]
  },
  {
   "cell_type": "code",
   "execution_count": null,
   "metadata": {},
   "outputs": [],
   "source": [
    "import re \n",
    "\n",
    "### BEGIN SOLUTION\n",
    "rehits = re.findall(r'href=[\\'\"]?([^\\'\" >]+)', html)\n",
    "### END SOLUTION"
   ]
  },
  {
   "cell_type": "markdown",
   "metadata": {},
   "source": [
    "> **Ex. 5.5.3:** *(Bonus)* Create a new variable `datalinks` that only contains the links that point to downloadable traffic data sheets. Some links may be preset more than once on the page. To get the unique links use the `set()` function on `datalinks`.\n",
    "\n",
    "> _Hint:_ You want to filter the results from above. For example to only include urls with the term 'download' in them."
   ]
  },
  {
   "cell_type": "code",
   "execution_count": null,
   "metadata": {
    "deletable": false,
    "nbgrader": {
     "cell_type": "code",
     "checksum": "9c4d2d55e4c1ad109d16434f21f24730",
     "grade": false,
     "grade_id": "cell-474f6f4274f1f6be",
     "locked": false,
     "schema_version": 3,
     "solution": true,
     "task": false
    }
   },
   "outputs": [],
   "source": [
    "# YOUR CODE HERE\n",
    "raise NotImplementedError()"
   ]
  },
  {
   "cell_type": "code",
   "execution_count": null,
   "metadata": {},
   "outputs": [],
   "source": [
    "### BEGIN SOLUTION\n",
    "datalinks = set([url for url in rehits if 'download' in url])\n",
    "### END SOLUTION"
   ]
  },
  {
   "cell_type": "markdown",
   "metadata": {},
   "source": [
    "> **Ex. 5.5.4:** *(Bonus)* Using pd.read_excel method, load the datasets into a list. Your resulting variable should hold a list of Pandas dataframes.\n",
    "\n",
    "> _Hint:_ you may want to set the `skiprows` keyword argument. "
   ]
  },
  {
   "cell_type": "code",
   "execution_count": null,
   "metadata": {
    "deletable": false,
    "nbgrader": {
     "cell_type": "code",
     "checksum": "ec13a7429665e71ab5b4c23f4ba21f5e",
     "grade": false,
     "grade_id": "cell-da5cce0bcf1ee076",
     "locked": false,
     "schema_version": 3,
     "solution": true,
     "task": false
    }
   },
   "outputs": [],
   "source": [
    "# YOUR CODE HERE\n",
    "raise NotImplementedError()"
   ]
  },
  {
   "cell_type": "code",
   "execution_count": null,
   "metadata": {},
   "outputs": [],
   "source": [
    "### BEGIN SOLUTION\n",
    "traffic_raw = [pd.read_excel(url, skiprows = 10) for url in datalinks]\n",
    "### END SOLUTION"
   ]
  },
  {
   "cell_type": "markdown",
   "metadata": {},
   "source": [
    "> **Ex. 5.5.5:** *(Bonus)* Merge the list of dataframes into a single dataframe."
   ]
  },
  {
   "cell_type": "code",
   "execution_count": null,
   "metadata": {
    "deletable": false,
    "nbgrader": {
     "cell_type": "code",
     "checksum": "106922ebf7ed30f3a851de6b1dcd847e",
     "grade": false,
     "grade_id": "cell-4526c1736e295f0a",
     "locked": false,
     "schema_version": 3,
     "solution": true,
     "task": false
    }
   },
   "outputs": [],
   "source": [
    "# YOUR CODE HERE\n",
    "raise NotImplementedError()"
   ]
  },
  {
   "cell_type": "code",
   "execution_count": null,
   "metadata": {},
   "outputs": [],
   "source": [
    "### BEGIN SOLUTION\n",
    "final_data = pd.concat(traffic_raw)\n",
    "final_data\n",
    "### END SOLUTION"
   ]
  },
  {
   "cell_type": "markdown",
   "metadata": {},
   "source": [
    "## Part 5.5.B Structuring your data\n",
    "\n",
    "If you successfully completed the previous part, you should now have a dataframe with about 183.397 rows (if your number of rows is close but not the same, worry not—it matters little in the following). Well done! But the data is still in no shape for analysis, so we must clean it up a little.\n",
    "\n",
    "161.236 rows (and 30 columns) is a lot of data. ~3.3 MB by my back-of-the-envelope calculations, so not \"Big Data\", but still enough to make your CPU heat up if you don't use it carefully. Pandas is built to handle fairly large dataframes and has advanced functionality to perform very fast operations even when the size of your data grows huge. So instead of working with basic Python we recommend working pandas built-in procedures as they are constructed to be fast on dataframes.\n",
    "\n",
    "Nerd fact: the reason pandas is much faster than pure Python is that dataframes access a lower level programming languages (namely C, C++) which are multiple times faster than Python. The reason it is faster is that it has a higher level of explicitness and thus is more difficult to learn and navigate.\n",
    "\n",
    "> **Ex. 5.5.6:** *(Bonus)* Reset the row indices of your dataframe so the first index is 0 and the last is whatever the number of rows your dataframe has. Also drop the column named 'index' and the one named `Spor`."
   ]
  },
  {
   "cell_type": "code",
   "execution_count": null,
   "metadata": {
    "deletable": false,
    "nbgrader": {
     "cell_type": "code",
     "checksum": "12b5d377a6d783b26c1fd5280b0a9909",
     "grade": false,
     "grade_id": "cell-bba8d42c26534466",
     "locked": false,
     "schema_version": 3,
     "solution": true,
     "task": false
    }
   },
   "outputs": [],
   "source": [
    "# YOUR CODE HERE\n",
    "raise NotImplementedError()"
   ]
  },
  {
   "cell_type": "code",
   "execution_count": null,
   "metadata": {},
   "outputs": [],
   "source": [
    "### BEGIN SOLUTION\n",
    "final_data = final_data\\\n",
    "        .reset_index()\\\n",
    "        .drop(['index', 'Spor'], axis = 1)\n",
    "### END SOLUTION"
   ]
  },
  {
   "cell_type": "markdown",
   "metadata": {},
   "source": [
    "> **Ex. 5.5.7:** *(Bonus)* Rename variables from Danish to English using the dictionary below.\n",
    "\n",
    "```python \n",
    "dk_to_uk = {\n",
    "    'Vejnavn':'road_name',\n",
    "    '(UTM32)':'UTM32_north',\n",
    "    '(UTM32).1':'UTM32_east',\n",
    "    'Dato':'date',\n",
    "    'Vej-Id':'road_id'\n",
    "}\n",
    "```"
   ]
  },
  {
   "cell_type": "code",
   "execution_count": null,
   "metadata": {
    "deletable": false,
    "nbgrader": {
     "cell_type": "code",
     "checksum": "8f9f5484502836bbba3fb542b23b6500",
     "grade": false,
     "grade_id": "cell-70b2cbb8cf1b167a",
     "locked": false,
     "schema_version": 3,
     "solution": true,
     "task": false
    }
   },
   "outputs": [],
   "source": [
    "# YOUR CODE HERE\n",
    "raise NotImplementedError()"
   ]
  },
  {
   "cell_type": "code",
   "execution_count": null,
   "metadata": {},
   "outputs": [],
   "source": [
    "### BEGIN SOLUTION\n",
    "dk_to_uk = {\n",
    "    'Vejnavn':'road_name',\n",
    "    '(UTM32)':'UTM32_north',\n",
    "    '(UTM32).1':'UTM32_east',\n",
    "    'Dato':'date',\n",
    "    'Vej-Id':'road_id'\n",
    "}\n",
    "\n",
    "\n",
    "final_data = final_data.rename(columns = dk_to_uk)\n",
    "### END SOLUTION"
   ]
  },
  {
   "cell_type": "markdown",
   "metadata": {},
   "source": [
    "Python is quite efficient. For example, when you create a new dataframe by manipulating an old one, Python notices that—apart from some minor changes—these two objects are almost the same. Since memory is a precious resource, Python will represent the values in the new dataframe as references to the variables in the old dataset. This is great for performance, but if you for whatever reason change some of the values in your old dataframe, values in the new one will also change—and we don't want that! Luckily, we can break this dependency.\n",
    "\n",
    "> **Ex. 5.5.8:** *(Bonus)* Break the dependencies of the dataframe that resulted from Ex. 5.2.7 using the `.copy` method. Delete all other dataframes."
   ]
  },
  {
   "cell_type": "code",
   "execution_count": null,
   "metadata": {
    "deletable": false,
    "nbgrader": {
     "cell_type": "code",
     "checksum": "16a0e29e5b884701fb033db976d23ca1",
     "grade": false,
     "grade_id": "cell-3bc14837561aaf91",
     "locked": false,
     "schema_version": 3,
     "solution": true,
     "task": false
    }
   },
   "outputs": [],
   "source": [
    "# YOUR CODE HERE\n",
    "raise NotImplementedError()"
   ]
  },
  {
   "cell_type": "code",
   "execution_count": null,
   "metadata": {},
   "outputs": [],
   "source": [
    "### BEGIN SOLUTION\n",
    "new_data = final_data.copy()\n",
    "\n",
    "del final_data\n",
    "### END SOLUTION"
   ]
  },
  {
   "cell_type": "markdown",
   "metadata": {},
   "source": [
    "Once you have structured appropriately, something that you will want to do again and again is selecting subsets of the data. Specifically, it means that you select specific rows in the dataset based on some column values.\n",
    "\n",
    ">**Ex. 5.5.9:** *(Bonus)* Create a new column in the dataframe called total that is True when the last letter of road_id is T and otherwise False.\n",
    "\n",
    "> _Hint:_ you will need the `pd.Series.str` attribute for this."
   ]
  },
  {
   "cell_type": "code",
   "execution_count": null,
   "metadata": {
    "deletable": false,
    "nbgrader": {
     "cell_type": "code",
     "checksum": "35f0de63708a3b52e5f8d9939a2d0e37",
     "grade": false,
     "grade_id": "cell-d71c49b56465c6de",
     "locked": false,
     "schema_version": 3,
     "solution": true,
     "task": false
    }
   },
   "outputs": [],
   "source": [
    "# YOUR CODE HERE\n",
    "raise NotImplementedError()"
   ]
  },
  {
   "cell_type": "code",
   "execution_count": null,
   "metadata": {},
   "outputs": [],
   "source": [
    "### BEGIN SOLUTION\n",
    "new_data['total'] = (new_data.road_id.str[-1] == 'T')\n",
    "### END SOLUTION"
   ]
  },
  {
   "cell_type": "markdown",
   "metadata": {},
   "source": [
    "> **Ex. 5.5.10:** *(Bonus)* Select rows where total is True. Delete all the remaining observations."
   ]
  },
  {
   "cell_type": "code",
   "execution_count": null,
   "metadata": {
    "deletable": false,
    "nbgrader": {
     "cell_type": "code",
     "checksum": "0ba8a70ca32e46791f0f6412bade1dff",
     "grade": false,
     "grade_id": "cell-be16ff389b3ac550",
     "locked": false,
     "schema_version": 3,
     "solution": true,
     "task": false
    }
   },
   "outputs": [],
   "source": [
    "# YOUR CODE HERE\n",
    "raise NotImplementedError()"
   ]
  },
  {
   "cell_type": "code",
   "execution_count": null,
   "metadata": {},
   "outputs": [],
   "source": [
    "### BEGIN SOLUTION\n",
    "total_data = new_data[new_data.total == True]\n",
    "\n",
    "del new_data\n",
    "### END SOLUTION"
   ]
  },
  {
   "cell_type": "markdown",
   "metadata": {},
   "source": [
    "> **Ex. 5.5.11:** *(Bonus)* Make two datasets based on the lists of columns below. Call the dataset with spatial columns data_geo and the other data.\n",
    "\n",
    "```python\n",
    "# Columns for `geo_data`, stored in `geo_columns`\n",
    "spatial_columns = ['road_name', 'UTM32_north', 'UTM32_east']\n",
    "\n",
    "# Columns for `data`, stored in `select_columns`\n",
    "hours = ['kl.{}-{}'.format(str(h).zfill(2), str(h+1).zfill(2)) for h in range(24)]\n",
    "select_columns = ['road_name', 'date'] + hours\n",
    "```"
   ]
  },
  {
   "cell_type": "code",
   "execution_count": null,
   "metadata": {
    "deletable": false,
    "nbgrader": {
     "cell_type": "code",
     "checksum": "f5f9cccfbf6ea83f71ad566f2ff863fc",
     "grade": false,
     "grade_id": "cell-044260f4552d575c",
     "locked": false,
     "schema_version": 3,
     "solution": true,
     "task": false
    }
   },
   "outputs": [],
   "source": [
    "# YOUR CODE HERE\n",
    "raise NotImplementedError()"
   ]
  },
  {
   "cell_type": "code",
   "execution_count": null,
   "metadata": {},
   "outputs": [],
   "source": [
    "### BEGIN SOLUTION\n",
    "# Columns for `geo_data`, stored in `geo_columns`\n",
    "spatial_columns = ['road_name', 'UTM32_north', 'UTM32_east']\n",
    "\n",
    "# Columns for `data`, stored in `select_columns`\n",
    "hours = [f'kl.{str(h).zfill(2)}-{str(h+1).zfill(2)}' for h in range(24)]\n",
    "select_columns = ['road_name', 'date'] + hours\n",
    "\n",
    "# selections\n",
    "data_geo = total_data[spatial_columns]\n",
    "data  = total_data[select_columns]\n",
    "\n",
    "del total_data\n",
    "### END SOLUTION"
   ]
  },
  {
   "cell_type": "markdown",
   "metadata": {},
   "source": [
    "> **Ex. 5.5.12:** *(Bonus)* Drop the duplicate rows in data_geo."
   ]
  },
  {
   "cell_type": "code",
   "execution_count": null,
   "metadata": {
    "deletable": false,
    "nbgrader": {
     "cell_type": "code",
     "checksum": "62c3d4184c078cc649f4ff73b42a46e5",
     "grade": false,
     "grade_id": "cell-34fc8fa941234a18",
     "locked": false,
     "schema_version": 3,
     "solution": true,
     "task": false
    }
   },
   "outputs": [],
   "source": [
    "# YOUR CODE HERE\n",
    "raise NotImplementedError()"
   ]
  },
  {
   "cell_type": "code",
   "execution_count": null,
   "metadata": {},
   "outputs": [],
   "source": [
    "### BEGIN SOLUTION\n",
    "data_geo.drop_duplicates(inplace = True)\n",
    "### END SOLUTION"
   ]
  },
  {
   "cell_type": "markdown",
   "metadata": {},
   "source": [
    "**Formatting: wide and narrow format**\n",
    "\n",
    "When talking about two-dimensional data (matrices, tables or dataframes, we can call it many things), we can either say that it is in wide or long format (see explanation here, \"wide\" and \"long\" are used interchangably). In Pandas we can use the commands stack and unstack to move between these formats.\n",
    "\n",
    "The wide format has the advantage that it often requires less storage and is easier to read when printed. On the other hand the long format can be easier for modelling, because each observation has its own row. Turns out that the latter is what we most often need.\n",
    "\n",
    "> **Ex. 5.5.13:** *(Bonus)* Turn the dataset from wide to long so hourly data is now vertically stacked. Store this dataset in a dataframe called data. Name the column with hourly information hour_period. Your resulting dataframe should look something like this.\n",
    "\n",
    "> _Hint:_ pandas' melt function may be of use."
   ]
  },
  {
   "cell_type": "code",
   "execution_count": null,
   "metadata": {
    "deletable": false,
    "nbgrader": {
     "cell_type": "code",
     "checksum": "fdb44532dc5c3121108808b0e192ba73",
     "grade": false,
     "grade_id": "cell-8814dd6f2c675c9e",
     "locked": false,
     "schema_version": 3,
     "solution": true,
     "task": false
    }
   },
   "outputs": [],
   "source": [
    "# YOUR CODE HERE\n",
    "raise NotImplementedError()"
   ]
  },
  {
   "cell_type": "code",
   "execution_count": null,
   "metadata": {},
   "outputs": [],
   "source": [
    "### BEGIN SOLUTION\n",
    "\n",
    "# A bonus info: This function is written using optional type declaration. This\n",
    "# is used to communicate what type the inputs should be. It doesn't affect the \n",
    "# functionality in any way, but it can sometimes increase readability. \n",
    "\n",
    "def gather(df: pd.DataFrame, key: str, value: str, cols: list) -> pd.DataFrame:\n",
    "    \"\"\" This helper makes pythons melt() behave like R's gather()\n",
    "    \"\"\"\n",
    "    id_vars = [ col for col in df.columns if col not in cols ]\n",
    "    id_values = cols\n",
    "    var_name = key\n",
    "    value_name = value\n",
    "    return pd.melt( df, id_vars, id_values, var_name, value_name )\n",
    "\n",
    "data_long = gather(data, 'hour_period', 'value', hours)\n",
    "\n",
    "# # using .stack() \n",
    "# # dropna = False in stack() is necessary for the dataframe to be exactly equal to the one above\n",
    "# data_long = data.set_index([\"road_name\", \"date\"])\\\n",
    "#                 .stack(dropna=False)\\\n",
    "#                 .reset_index()\\\n",
    "#                 .rename(columns = {\"level_2\": \"hour_period\", 0: \"value\"})\n",
    "\n",
    "### END SOLUTION"
   ]
  },
  {
   "cell_type": "markdown",
   "metadata": {},
   "source": [
    "**Categorical data**\n",
    "\n",
    "Categorical data can contain Python objects, usually strings. These are smart if you have variables with string observations that are long and often repeated, e.g. with road names.\n",
    "\n",
    "> **Ex. 5.5.14:** *(Bonus)* Use the `.astype` method to convert the type of the road_name column to categorical."
   ]
  },
  {
   "cell_type": "code",
   "execution_count": null,
   "metadata": {
    "deletable": false,
    "nbgrader": {
     "cell_type": "code",
     "checksum": "bc8cc582f4ae8fc5699481d4687b7a29",
     "grade": false,
     "grade_id": "cell-d94e7ec1af8fce59",
     "locked": false,
     "schema_version": 3,
     "solution": true,
     "task": false
    }
   },
   "outputs": [],
   "source": [
    "# YOUR CODE HERE\n",
    "raise NotImplementedError()"
   ]
  },
  {
   "cell_type": "code",
   "execution_count": null,
   "metadata": {},
   "outputs": [],
   "source": [
    "### BEGIN SOLUTION\n",
    "data_long.road_name = data_long.road_name.astype('category')\n",
    "### END SOLUTION"
   ]
  },
  {
   "cell_type": "markdown",
   "metadata": {},
   "source": [
    "## Part 5.5.C:  Structure temporal data\n",
    "\n",
    "Pandas has native support for working with temporal data. This is handy as much 'big data' often has time stamps which we can make Pandas aware of. Once we have encoded temporal data it can be used to extract information such as the hour, second etc.\n",
    "\n",
    "> **Ex. 5.5.15:** *(Bonus)* Create a new column called hour which contains the hour-of-day for each row. "
   ]
  },
  {
   "cell_type": "code",
   "execution_count": null,
   "metadata": {
    "deletable": false,
    "nbgrader": {
     "cell_type": "code",
     "checksum": "646ddff2743eb9b40e49cb18a566c9b9",
     "grade": false,
     "grade_id": "cell-54d6bbbab97b9bae",
     "locked": false,
     "schema_version": 3,
     "solution": true,
     "task": false
    }
   },
   "outputs": [],
   "source": [
    "# YOUR CODE HERE\n",
    "raise NotImplementedError()"
   ]
  },
  {
   "cell_type": "code",
   "execution_count": null,
   "metadata": {},
   "outputs": [],
   "source": [
    "### BEGIN SOLUTION\n",
    "data_long['hour'] = pd.to_datetime(data_long['hour_period'].str[3:5], format = '%H')\n",
    "### END SOLUTION"
   ]
  },
  {
   "cell_type": "markdown",
   "metadata": {},
   "source": [
    ">**Ex. 5.5.16:** *(Bonus)* Create a new column called time, that contains the time of the row in datetime format. Delete the old temporal columns (hour, hour_period, date) to save memory.\n",
    "\n",
    "> _Hint:_ try making an intermediary series of strings that has all temporal information for the row; then use pandas to_datetime function where you can specify the format of the date string."
   ]
  },
  {
   "cell_type": "code",
   "execution_count": null,
   "metadata": {
    "deletable": false,
    "nbgrader": {
     "cell_type": "code",
     "checksum": "e0336faad2edaa18a961f7dbd9364a26",
     "grade": false,
     "grade_id": "cell-e8d6d81a5e31cd12",
     "locked": false,
     "schema_version": 3,
     "solution": true,
     "task": false
    }
   },
   "outputs": [],
   "source": [
    "# YOUR CODE HERE\n",
    "raise NotImplementedError()"
   ]
  },
  {
   "cell_type": "code",
   "execution_count": null,
   "metadata": {},
   "outputs": [],
   "source": [
    "### BEGIN SOLUTION\n",
    "data_long['timestamp'] = pd.to_datetime(data_long.date + ' ' + data_long.hour\\\n",
    "                                                                        .dt\\\n",
    "                                                                        .hour\\\n",
    "                                                                        .astype(str)\\\n",
    "                                                                        .apply(lambda x: x.zfill(2)),\n",
    "                                        format = '%d.%m.%Y %H')\n",
    "\n",
    "data_long = data_long.drop(['hour', 'hour_period', 'date'], axis = 1)\n",
    "### END SOLUTION"
   ]
  },
  {
   "cell_type": "markdown",
   "metadata": {},
   "source": [
    "> **Ex. 5.5.17:** *(Bonus)* Using your time column make a new column called weekday which stores the weekday (in values between 0 and 6) of the corresponding datetime.\n",
    "\n",
    "> _Hint:_ try using the dt method for the series called time; dt has some relevant methods itself."
   ]
  },
  {
   "cell_type": "code",
   "execution_count": null,
   "metadata": {
    "deletable": false,
    "nbgrader": {
     "cell_type": "code",
     "checksum": "ec12a51ca78cfcfb010958a3a3f38299",
     "grade": false,
     "grade_id": "cell-eeabee7e17bbc24a",
     "locked": false,
     "schema_version": 3,
     "solution": true,
     "task": false
    }
   },
   "outputs": [],
   "source": [
    "# YOUR CODE HERE\n",
    "raise NotImplementedError()"
   ]
  },
  {
   "cell_type": "code",
   "execution_count": null,
   "metadata": {},
   "outputs": [],
   "source": [
    "### BEGIN SOLUTION\n",
    "data_long['weekday'] = data_long.timestamp.dt.weekday\n",
    "### END SOLUTION"
   ]
  },
  {
   "cell_type": "markdown",
   "metadata": {},
   "source": [
    "## Part 5.5.D: Statistical descriptions of traffic data\n",
    "\n",
    "> **Ex. 5.5.18:** *(Bonus)* Print the \"descriptive statistics\" of the traffic column. Also show a kernel density estimate of the values.\n",
    "\n",
    "> _Hint:_ Use the describe method of pandas dataframes for the first task. Use seaborn for the second. "
   ]
  },
  {
   "cell_type": "code",
   "execution_count": null,
   "metadata": {
    "deletable": false,
    "nbgrader": {
     "cell_type": "code",
     "checksum": "1c8c5a5e2b98bb1b436ce71ccfedb681",
     "grade": false,
     "grade_id": "cell-5543e5d8d126bc40",
     "locked": false,
     "schema_version": 3,
     "solution": true,
     "task": false
    }
   },
   "outputs": [],
   "source": [
    "import seaborn as sb\n",
    "\n",
    "# YOUR CODE HERE\n",
    "raise NotImplementedError()"
   ]
  },
  {
   "cell_type": "code",
   "execution_count": null,
   "metadata": {},
   "outputs": [],
   "source": [
    "import seaborn as sb\n",
    "\n",
    "### BEGIN SOLUTION\n",
    "print(data_long.value.describe())\n",
    "\n",
    "sb.kdeplot(data_long.value.dropna())\n",
    "plt.show()\n",
    "### END SOLUTION"
   ]
  },
  {
   "cell_type": "markdown",
   "metadata": {},
   "source": [
    "> **Ex. 5.5.19:** *(Bonus)* Which road has the most average traffic?"
   ]
  },
  {
   "cell_type": "code",
   "execution_count": null,
   "metadata": {
    "deletable": false,
    "nbgrader": {
     "cell_type": "code",
     "checksum": "e44658f7686188ab151c6ad871332bba",
     "grade": false,
     "grade_id": "cell-ed14c5a9519b1a33",
     "locked": false,
     "schema_version": 3,
     "solution": true,
     "task": false
    }
   },
   "outputs": [],
   "source": [
    "# YOUR CODE HERE\n",
    "raise NotImplementedError()"
   ]
  },
  {
   "cell_type": "code",
   "execution_count": null,
   "metadata": {},
   "outputs": [],
   "source": [
    "### BEGIN SOLUTION\n",
    "data_long.groupby('road_name')\\\n",
    "         .value.agg('mean')\\\n",
    "         .reset_index()\\\n",
    "         .sort_values('value', ascending = False)\\\n",
    "         .head(10)\n",
    "### END SOLUTION"
   ]
  },
  {
   "cell_type": "markdown",
   "metadata": {},
   "source": [
    "> **Ex. 5.5.20:** *(Bonus)* Compute annual, average road traffic during day hours (9-17). Which station had the least traffic in 2013? Which station has seen highest growth in traffic from 2013 to 2014?"
   ]
  },
  {
   "cell_type": "code",
   "execution_count": null,
   "metadata": {
    "deletable": false,
    "nbgrader": {
     "cell_type": "code",
     "checksum": "56dc16997bb791aa9bcbd89cf1f5c64d",
     "grade": false,
     "grade_id": "cell-279831757079d3e0",
     "locked": false,
     "schema_version": 3,
     "solution": true,
     "task": false
    }
   },
   "outputs": [],
   "source": [
    "# YOUR CODE HERE\n",
    "raise NotImplementedError()"
   ]
  },
  {
   "cell_type": "code",
   "execution_count": null,
   "metadata": {},
   "outputs": [],
   "source": [
    "### BEGIN SOLUTION\n",
    "# create year variable\n",
    "data_long['year'] = data_long.timestamp.dt.year\n",
    "data_long['hour'] = data_long.timestamp.dt.hour\n",
    "\n",
    "# subset relevant years and times \n",
    "data_delta = data_long.query(\"year == 2013 | year == 2014\")\\\n",
    "                      .query(\"hour >= 9 & hour <= 17\")\n",
    "\n",
    "# convert to wide format\n",
    "data_delta = data_delta[['road_name', 'value', 'year']].groupby(['road_name', 'year'])\\\n",
    "                                                       .agg('mean')\\\n",
    "                                                       .reset_index()\\\n",
    "\n",
    "# create year variable\n",
    "data_long['year'] = data_long.timestamp.dt.year\n",
    "data_long['hour'] = data_long.timestamp.dt.hour\n",
    "\n",
    "# subset relevant years and times \n",
    "data_delta = data_long.query(\"year == 2013 | year == 2014\")\\\n",
    "                      .query(\"hour >= 9 & hour <= 17\")\n",
    "\n",
    "# convert to wide format\n",
    "data_delta = data_delta[['road_name', 'value', 'year']].groupby(['road_name', 'year'])\\\n",
    "                                                       .agg('mean')\\\n",
    "                                                       .reset_index()\\\n",
    "                                                       .pivot('road_name', 'year', 'value')\\\n",
    "                                                       .reset_index()\n",
    "# remove redundant column name after pivoting \n",
    "data_delta.columns.name = None\n",
    "\n",
    "# calculate relative size\n",
    "data_delta['growth'] = (data_delta[2014]/data_delta[2013] - 1)*100\n",
    "\n",
    "# show\n",
    "data_delta.sort_values('growth', ascending = False)\n",
    "### END SOLUTION"
   ]
  }
 ],
 "metadata": {
  "kernelspec": {
   "display_name": "Python 3 (ipykernel)",
   "language": "python",
   "name": "python3"
  },
  "language_info": {
   "codemirror_mode": {
    "name": "ipython",
    "version": 3
   },
   "file_extension": ".py",
   "mimetype": "text/x-python",
   "name": "python",
   "nbconvert_exporter": "python",
   "pygments_lexer": "ipython3",
   "version": "3.9.7"
  },
  "varInspector": {
   "cols": {
    "lenName": 16,
    "lenType": 16,
    "lenVar": 40
   },
   "kernels_config": {
    "python": {
     "delete_cmd_postfix": "",
     "delete_cmd_prefix": "del ",
     "library": "var_list.py",
     "varRefreshCmd": "print(var_dic_list())"
    },
    "r": {
     "delete_cmd_postfix": ") ",
     "delete_cmd_prefix": "rm(",
     "library": "var_list.r",
     "varRefreshCmd": "cat(var_dic_list()) "
    }
   },
   "types_to_exclude": [
    "module",
    "function",
    "builtin_function_or_method",
    "instance",
    "_Feature"
   ],
   "window_display": false
  }
 },
 "nbformat": 4,
 "nbformat_minor": 4
}
